{
  "nbformat": 4,
  "nbformat_minor": 0,
  "metadata": {
    "colab": {
      "provenance": [],
      "gpuType": "V28"
    },
    "kernelspec": {
      "name": "python3",
      "display_name": "Python 3"
    },
    "language_info": {
      "name": "python"
    },
    "accelerator": "TPU"
  },
  "cells": [
    {
      "cell_type": "code",
      "execution_count": 37,
      "metadata": {
        "colab": {
          "base_uri": "https://localhost:8080/"
        },
        "id": "-8pM-Rxfb4lH",
        "outputId": "ceac34f7-8cdc-4a70-8f71-5829f685c38b"
      },
      "outputs": [
        {
          "output_type": "stream",
          "name": "stdout",
          "text": [
            "2.4.0+cu121\n"
          ]
        }
      ],
      "source": [
        "import os\n",
        "import torch\n",
        "print(torch.__version__)"
      ]
    },
    {
      "cell_type": "code",
      "source": [
        "if 'IS_GRADESCOPE_ENV' not in os.environ:\n",
        "  !pip install torch==2.4.0"
      ],
      "metadata": {
        "id": "XLsPS3hzcCIo",
        "colab": {
          "base_uri": "https://localhost:8080/"
        },
        "outputId": "ae7a4c10-6b72-4b57-e8ec-066f53f3f6bb"
      },
      "execution_count": 2,
      "outputs": [
        {
          "output_type": "stream",
          "name": "stdout",
          "text": [
            "Requirement already satisfied: torch==2.4.0 in /usr/local/lib/python3.11/dist-packages (2.4.0)\n",
            "Requirement already satisfied: filelock in /usr/local/lib/python3.11/dist-packages (from torch==2.4.0) (3.16.1)\n",
            "Requirement already satisfied: typing-extensions>=4.8.0 in /usr/local/lib/python3.11/dist-packages (from torch==2.4.0) (4.12.2)\n",
            "Requirement already satisfied: sympy in /usr/local/lib/python3.11/dist-packages (from torch==2.4.0) (1.13.1)\n",
            "Requirement already satisfied: networkx in /usr/local/lib/python3.11/dist-packages (from torch==2.4.0) (3.4.2)\n",
            "Requirement already satisfied: jinja2 in /usr/local/lib/python3.11/dist-packages (from torch==2.4.0) (3.1.5)\n",
            "Requirement already satisfied: fsspec in /usr/local/lib/python3.11/dist-packages (from torch==2.4.0) (2024.12.0)\n",
            "Requirement already satisfied: nvidia-cuda-nvrtc-cu12==12.1.105 in /usr/local/lib/python3.11/dist-packages (from torch==2.4.0) (12.1.105)\n",
            "Requirement already satisfied: nvidia-cuda-runtime-cu12==12.1.105 in /usr/local/lib/python3.11/dist-packages (from torch==2.4.0) (12.1.105)\n",
            "Requirement already satisfied: nvidia-cuda-cupti-cu12==12.1.105 in /usr/local/lib/python3.11/dist-packages (from torch==2.4.0) (12.1.105)\n",
            "Requirement already satisfied: nvidia-cudnn-cu12==9.1.0.70 in /usr/local/lib/python3.11/dist-packages (from torch==2.4.0) (9.1.0.70)\n",
            "Requirement already satisfied: nvidia-cublas-cu12==12.1.3.1 in /usr/local/lib/python3.11/dist-packages (from torch==2.4.0) (12.1.3.1)\n",
            "Requirement already satisfied: nvidia-cufft-cu12==11.0.2.54 in /usr/local/lib/python3.11/dist-packages (from torch==2.4.0) (11.0.2.54)\n",
            "Requirement already satisfied: nvidia-curand-cu12==10.3.2.106 in /usr/local/lib/python3.11/dist-packages (from torch==2.4.0) (10.3.2.106)\n",
            "Requirement already satisfied: nvidia-cusolver-cu12==11.4.5.107 in /usr/local/lib/python3.11/dist-packages (from torch==2.4.0) (11.4.5.107)\n",
            "Requirement already satisfied: nvidia-cusparse-cu12==12.1.0.106 in /usr/local/lib/python3.11/dist-packages (from torch==2.4.0) (12.1.0.106)\n",
            "Requirement already satisfied: nvidia-nccl-cu12==2.20.5 in /usr/local/lib/python3.11/dist-packages (from torch==2.4.0) (2.20.5)\n",
            "Requirement already satisfied: nvidia-nvtx-cu12==12.1.105 in /usr/local/lib/python3.11/dist-packages (from torch==2.4.0) (12.1.105)\n",
            "Requirement already satisfied: triton==3.0.0 in /usr/local/lib/python3.11/dist-packages (from torch==2.4.0) (3.0.0)\n",
            "Requirement already satisfied: nvidia-nvjitlink-cu12 in /usr/local/lib/python3.11/dist-packages (from nvidia-cusolver-cu12==11.4.5.107->torch==2.4.0) (12.6.85)\n",
            "Requirement already satisfied: MarkupSafe>=2.0 in /usr/local/lib/python3.11/dist-packages (from jinja2->torch==2.4.0) (3.0.2)\n",
            "Requirement already satisfied: mpmath<1.4,>=1.1.0 in /usr/local/lib/python3.11/dist-packages (from sympy->torch==2.4.0) (1.3.0)\n"
          ]
        }
      ]
    },
    {
      "cell_type": "code",
      "source": [
        "# Install torch geometric\n",
        "if 'IS_GRADESCOPE_ENV' not in os.environ:\n",
        "  torch_version = str(torch.__version__)\n",
        "  scatter_src = f\"https://pytorch-geometric.com/whl/torch-{torch_version}.html\"\n",
        "  sparse_src = f\"https://pytorch-geometric.com/whl/torch-{torch_version}.html\"\n",
        "  !pip install torch-scatter -f $scatter_src\n",
        "  !pip install torch-sparse -f $sparse_src\n",
        "  !pip install torch-geometric\n",
        "  !pip install ogb"
      ],
      "metadata": {
        "id": "02L9XzJjcH-d",
        "colab": {
          "base_uri": "https://localhost:8080/"
        },
        "outputId": "7cdccfb4-fdc0-42d4-8399-f6abc157d3c4"
      },
      "execution_count": 3,
      "outputs": [
        {
          "output_type": "stream",
          "name": "stdout",
          "text": [
            "Looking in links: https://pytorch-geometric.com/whl/torch-2.4.0+cu121.html\n",
            "Collecting torch-scatter\n",
            "  Downloading https://data.pyg.org/whl/torch-2.4.0%2Bcu121/torch_scatter-2.1.2%2Bpt24cu121-cp311-cp311-linux_x86_64.whl (10.9 MB)\n",
            "\u001b[2K     \u001b[90m━━━━━━━━━━━━━━━━━━━━━━━━━━━━━━━━━━━━━━━━\u001b[0m \u001b[32m10.9/10.9 MB\u001b[0m \u001b[31m85.9 MB/s\u001b[0m eta \u001b[36m0:00:00\u001b[0m\n",
            "\u001b[?25hInstalling collected packages: torch-scatter\n",
            "Successfully installed torch-scatter-2.1.2+pt24cu121\n",
            "Looking in links: https://pytorch-geometric.com/whl/torch-2.4.0+cu121.html\n",
            "Collecting torch-sparse\n",
            "  Downloading https://data.pyg.org/whl/torch-2.4.0%2Bcu121/torch_sparse-0.6.18%2Bpt24cu121-cp311-cp311-linux_x86_64.whl (5.1 MB)\n",
            "\u001b[2K     \u001b[90m━━━━━━━━━━━━━━━━━━━━━━━━━━━━━━━━━━━━━━━━\u001b[0m \u001b[32m5.1/5.1 MB\u001b[0m \u001b[31m34.4 MB/s\u001b[0m eta \u001b[36m0:00:00\u001b[0m\n",
            "\u001b[?25hRequirement already satisfied: scipy in /usr/local/lib/python3.11/dist-packages (from torch-sparse) (1.13.1)\n",
            "Requirement already satisfied: numpy<2.3,>=1.22.4 in /usr/local/lib/python3.11/dist-packages (from scipy->torch-sparse) (1.26.4)\n",
            "Installing collected packages: torch-sparse\n",
            "Successfully installed torch-sparse-0.6.18+pt24cu121\n",
            "Collecting torch-geometric\n",
            "  Downloading torch_geometric-2.6.1-py3-none-any.whl.metadata (63 kB)\n",
            "\u001b[2K     \u001b[90m━━━━━━━━━━━━━━━━━━━━━━━━━━━━━━━━━━━━━━━━\u001b[0m \u001b[32m63.1/63.1 kB\u001b[0m \u001b[31m1.7 MB/s\u001b[0m eta \u001b[36m0:00:00\u001b[0m\n",
            "\u001b[?25hCollecting aiohttp (from torch-geometric)\n",
            "  Downloading aiohttp-3.11.11-cp311-cp311-manylinux_2_17_x86_64.manylinux2014_x86_64.whl.metadata (7.7 kB)\n",
            "Requirement already satisfied: fsspec in /usr/local/lib/python3.11/dist-packages (from torch-geometric) (2024.12.0)\n",
            "Requirement already satisfied: jinja2 in /usr/local/lib/python3.11/dist-packages (from torch-geometric) (3.1.5)\n",
            "Requirement already satisfied: numpy in /usr/local/lib/python3.11/dist-packages (from torch-geometric) (1.26.4)\n",
            "Requirement already satisfied: psutil>=5.8.0 in /usr/local/lib/python3.11/dist-packages (from torch-geometric) (5.9.5)\n",
            "Requirement already satisfied: pyparsing in /usr/local/lib/python3.11/dist-packages (from torch-geometric) (3.2.1)\n",
            "Requirement already satisfied: requests in /usr/local/lib/python3.11/dist-packages (from torch-geometric) (2.32.3)\n",
            "Requirement already satisfied: tqdm in /usr/local/lib/python3.11/dist-packages (from torch-geometric) (4.67.1)\n",
            "Collecting aiohappyeyeballs>=2.3.0 (from aiohttp->torch-geometric)\n",
            "  Downloading aiohappyeyeballs-2.4.4-py3-none-any.whl.metadata (6.1 kB)\n",
            "Collecting aiosignal>=1.1.2 (from aiohttp->torch-geometric)\n",
            "  Downloading aiosignal-1.3.2-py2.py3-none-any.whl.metadata (3.8 kB)\n",
            "Requirement already satisfied: attrs>=17.3.0 in /usr/local/lib/python3.11/dist-packages (from aiohttp->torch-geometric) (24.3.0)\n",
            "Collecting frozenlist>=1.1.1 (from aiohttp->torch-geometric)\n",
            "  Downloading frozenlist-1.5.0-cp311-cp311-manylinux_2_5_x86_64.manylinux1_x86_64.manylinux_2_17_x86_64.manylinux2014_x86_64.whl.metadata (13 kB)\n",
            "Collecting multidict<7.0,>=4.5 (from aiohttp->torch-geometric)\n",
            "  Downloading multidict-6.1.0-cp311-cp311-manylinux_2_17_x86_64.manylinux2014_x86_64.whl.metadata (5.0 kB)\n",
            "Collecting propcache>=0.2.0 (from aiohttp->torch-geometric)\n",
            "  Downloading propcache-0.2.1-cp311-cp311-manylinux_2_17_x86_64.manylinux2014_x86_64.whl.metadata (9.2 kB)\n",
            "Collecting yarl<2.0,>=1.17.0 (from aiohttp->torch-geometric)\n",
            "  Downloading yarl-1.18.3-cp311-cp311-manylinux_2_17_x86_64.manylinux2014_x86_64.whl.metadata (69 kB)\n",
            "\u001b[2K     \u001b[90m━━━━━━━━━━━━━━━━━━━━━━━━━━━━━━━━━━━━━━━━\u001b[0m \u001b[32m69.2/69.2 kB\u001b[0m \u001b[31m2.7 MB/s\u001b[0m eta \u001b[36m0:00:00\u001b[0m\n",
            "\u001b[?25hRequirement already satisfied: MarkupSafe>=2.0 in /usr/local/lib/python3.11/dist-packages (from jinja2->torch-geometric) (3.0.2)\n",
            "Requirement already satisfied: charset-normalizer<4,>=2 in /usr/local/lib/python3.11/dist-packages (from requests->torch-geometric) (3.4.1)\n",
            "Requirement already satisfied: idna<4,>=2.5 in /usr/local/lib/python3.11/dist-packages (from requests->torch-geometric) (3.10)\n",
            "Requirement already satisfied: urllib3<3,>=1.21.1 in /usr/local/lib/python3.11/dist-packages (from requests->torch-geometric) (2.3.0)\n",
            "Requirement already satisfied: certifi>=2017.4.17 in /usr/local/lib/python3.11/dist-packages (from requests->torch-geometric) (2024.12.14)\n",
            "Downloading torch_geometric-2.6.1-py3-none-any.whl (1.1 MB)\n",
            "\u001b[2K   \u001b[90m━━━━━━━━━━━━━━━━━━━━━━━━━━━━━━━━━━━━━━━━\u001b[0m \u001b[32m1.1/1.1 MB\u001b[0m \u001b[31m21.8 MB/s\u001b[0m eta \u001b[36m0:00:00\u001b[0m\n",
            "\u001b[?25hDownloading aiohttp-3.11.11-cp311-cp311-manylinux_2_17_x86_64.manylinux2014_x86_64.whl (1.7 MB)\n",
            "\u001b[2K   \u001b[90m━━━━━━━━━━━━━━━━━━━━━━━━━━━━━━━━━━━━━━━━\u001b[0m \u001b[32m1.7/1.7 MB\u001b[0m \u001b[31m53.6 MB/s\u001b[0m eta \u001b[36m0:00:00\u001b[0m\n",
            "\u001b[?25hDownloading aiohappyeyeballs-2.4.4-py3-none-any.whl (14 kB)\n",
            "Downloading aiosignal-1.3.2-py2.py3-none-any.whl (7.6 kB)\n",
            "Downloading frozenlist-1.5.0-cp311-cp311-manylinux_2_5_x86_64.manylinux1_x86_64.manylinux_2_17_x86_64.manylinux2014_x86_64.whl (274 kB)\n",
            "\u001b[2K   \u001b[90m━━━━━━━━━━━━━━━━━━━━━━━━━━━━━━━━━━━━━━━━\u001b[0m \u001b[32m274.9/274.9 kB\u001b[0m \u001b[31m17.4 MB/s\u001b[0m eta \u001b[36m0:00:00\u001b[0m\n",
            "\u001b[?25hDownloading multidict-6.1.0-cp311-cp311-manylinux_2_17_x86_64.manylinux2014_x86_64.whl (129 kB)\n",
            "\u001b[2K   \u001b[90m━━━━━━━━━━━━━━━━━━━━━━━━━━━━━━━━━━━━━━━━\u001b[0m \u001b[32m129.0/129.0 kB\u001b[0m \u001b[31m9.2 MB/s\u001b[0m eta \u001b[36m0:00:00\u001b[0m\n",
            "\u001b[?25hDownloading propcache-0.2.1-cp311-cp311-manylinux_2_17_x86_64.manylinux2014_x86_64.whl (231 kB)\n",
            "\u001b[2K   \u001b[90m━━━━━━━━━━━━━━━━━━━━━━━━━━━━━━━━━━━━━━━━\u001b[0m \u001b[32m231.1/231.1 kB\u001b[0m \u001b[31m16.0 MB/s\u001b[0m eta \u001b[36m0:00:00\u001b[0m\n",
            "\u001b[?25hDownloading yarl-1.18.3-cp311-cp311-manylinux_2_17_x86_64.manylinux2014_x86_64.whl (344 kB)\n",
            "\u001b[2K   \u001b[90m━━━━━━━━━━━━━━━━━━━━━━━━━━━━━━━━━━━━━━━━\u001b[0m \u001b[32m344.1/344.1 kB\u001b[0m \u001b[31m24.0 MB/s\u001b[0m eta \u001b[36m0:00:00\u001b[0m\n",
            "\u001b[?25hInstalling collected packages: propcache, multidict, frozenlist, aiohappyeyeballs, yarl, aiosignal, aiohttp, torch-geometric\n",
            "Successfully installed aiohappyeyeballs-2.4.4 aiohttp-3.11.11 aiosignal-1.3.2 frozenlist-1.5.0 multidict-6.1.0 propcache-0.2.1 torch-geometric-2.6.1 yarl-1.18.3\n",
            "Collecting ogb\n",
            "  Downloading ogb-1.3.6-py3-none-any.whl.metadata (6.2 kB)\n",
            "Requirement already satisfied: torch>=1.6.0 in /usr/local/lib/python3.11/dist-packages (from ogb) (2.4.0)\n",
            "Requirement already satisfied: numpy>=1.16.0 in /usr/local/lib/python3.11/dist-packages (from ogb) (1.26.4)\n",
            "Requirement already satisfied: tqdm>=4.29.0 in /usr/local/lib/python3.11/dist-packages (from ogb) (4.67.1)\n",
            "Requirement already satisfied: scikit-learn>=0.20.0 in /usr/local/lib/python3.11/dist-packages (from ogb) (1.6.0)\n",
            "Requirement already satisfied: pandas>=0.24.0 in /usr/local/lib/python3.11/dist-packages (from ogb) (2.2.2)\n",
            "Requirement already satisfied: six>=1.12.0 in /usr/local/lib/python3.11/dist-packages (from ogb) (1.17.0)\n",
            "Requirement already satisfied: urllib3>=1.24.0 in /usr/local/lib/python3.11/dist-packages (from ogb) (2.3.0)\n",
            "Collecting outdated>=0.2.0 (from ogb)\n",
            "  Downloading outdated-0.2.2-py2.py3-none-any.whl.metadata (4.7 kB)\n",
            "Requirement already satisfied: setuptools>=44 in /usr/local/lib/python3.11/dist-packages (from outdated>=0.2.0->ogb) (75.1.0)\n",
            "Collecting littleutils (from outdated>=0.2.0->ogb)\n",
            "  Downloading littleutils-0.2.4-py3-none-any.whl.metadata (679 bytes)\n",
            "Requirement already satisfied: requests in /usr/local/lib/python3.11/dist-packages (from outdated>=0.2.0->ogb) (2.32.3)\n",
            "Requirement already satisfied: python-dateutil>=2.8.2 in /usr/local/lib/python3.11/dist-packages (from pandas>=0.24.0->ogb) (2.9.0.post0)\n",
            "Requirement already satisfied: pytz>=2020.1 in /usr/local/lib/python3.11/dist-packages (from pandas>=0.24.0->ogb) (2024.2)\n",
            "Requirement already satisfied: tzdata>=2022.7 in /usr/local/lib/python3.11/dist-packages (from pandas>=0.24.0->ogb) (2024.2)\n",
            "Requirement already satisfied: scipy>=1.6.0 in /usr/local/lib/python3.11/dist-packages (from scikit-learn>=0.20.0->ogb) (1.13.1)\n",
            "Requirement already satisfied: joblib>=1.2.0 in /usr/local/lib/python3.11/dist-packages (from scikit-learn>=0.20.0->ogb) (1.4.2)\n",
            "Requirement already satisfied: threadpoolctl>=3.1.0 in /usr/local/lib/python3.11/dist-packages (from scikit-learn>=0.20.0->ogb) (3.5.0)\n",
            "Requirement already satisfied: filelock in /usr/local/lib/python3.11/dist-packages (from torch>=1.6.0->ogb) (3.16.1)\n",
            "Requirement already satisfied: typing-extensions>=4.8.0 in /usr/local/lib/python3.11/dist-packages (from torch>=1.6.0->ogb) (4.12.2)\n",
            "Requirement already satisfied: sympy in /usr/local/lib/python3.11/dist-packages (from torch>=1.6.0->ogb) (1.13.1)\n",
            "Requirement already satisfied: networkx in /usr/local/lib/python3.11/dist-packages (from torch>=1.6.0->ogb) (3.4.2)\n",
            "Requirement already satisfied: jinja2 in /usr/local/lib/python3.11/dist-packages (from torch>=1.6.0->ogb) (3.1.5)\n",
            "Requirement already satisfied: fsspec in /usr/local/lib/python3.11/dist-packages (from torch>=1.6.0->ogb) (2024.12.0)\n",
            "Requirement already satisfied: nvidia-cuda-nvrtc-cu12==12.1.105 in /usr/local/lib/python3.11/dist-packages (from torch>=1.6.0->ogb) (12.1.105)\n",
            "Requirement already satisfied: nvidia-cuda-runtime-cu12==12.1.105 in /usr/local/lib/python3.11/dist-packages (from torch>=1.6.0->ogb) (12.1.105)\n",
            "Requirement already satisfied: nvidia-cuda-cupti-cu12==12.1.105 in /usr/local/lib/python3.11/dist-packages (from torch>=1.6.0->ogb) (12.1.105)\n",
            "Requirement already satisfied: nvidia-cudnn-cu12==9.1.0.70 in /usr/local/lib/python3.11/dist-packages (from torch>=1.6.0->ogb) (9.1.0.70)\n",
            "Requirement already satisfied: nvidia-cublas-cu12==12.1.3.1 in /usr/local/lib/python3.11/dist-packages (from torch>=1.6.0->ogb) (12.1.3.1)\n",
            "Requirement already satisfied: nvidia-cufft-cu12==11.0.2.54 in /usr/local/lib/python3.11/dist-packages (from torch>=1.6.0->ogb) (11.0.2.54)\n",
            "Requirement already satisfied: nvidia-curand-cu12==10.3.2.106 in /usr/local/lib/python3.11/dist-packages (from torch>=1.6.0->ogb) (10.3.2.106)\n",
            "Requirement already satisfied: nvidia-cusolver-cu12==11.4.5.107 in /usr/local/lib/python3.11/dist-packages (from torch>=1.6.0->ogb) (11.4.5.107)\n",
            "Requirement already satisfied: nvidia-cusparse-cu12==12.1.0.106 in /usr/local/lib/python3.11/dist-packages (from torch>=1.6.0->ogb) (12.1.0.106)\n",
            "Requirement already satisfied: nvidia-nccl-cu12==2.20.5 in /usr/local/lib/python3.11/dist-packages (from torch>=1.6.0->ogb) (2.20.5)\n",
            "Requirement already satisfied: nvidia-nvtx-cu12==12.1.105 in /usr/local/lib/python3.11/dist-packages (from torch>=1.6.0->ogb) (12.1.105)\n",
            "Requirement already satisfied: triton==3.0.0 in /usr/local/lib/python3.11/dist-packages (from torch>=1.6.0->ogb) (3.0.0)\n",
            "Requirement already satisfied: nvidia-nvjitlink-cu12 in /usr/local/lib/python3.11/dist-packages (from nvidia-cusolver-cu12==11.4.5.107->torch>=1.6.0->ogb) (12.6.85)\n",
            "Requirement already satisfied: MarkupSafe>=2.0 in /usr/local/lib/python3.11/dist-packages (from jinja2->torch>=1.6.0->ogb) (3.0.2)\n",
            "Requirement already satisfied: charset-normalizer<4,>=2 in /usr/local/lib/python3.11/dist-packages (from requests->outdated>=0.2.0->ogb) (3.4.1)\n",
            "Requirement already satisfied: idna<4,>=2.5 in /usr/local/lib/python3.11/dist-packages (from requests->outdated>=0.2.0->ogb) (3.10)\n",
            "Requirement already satisfied: certifi>=2017.4.17 in /usr/local/lib/python3.11/dist-packages (from requests->outdated>=0.2.0->ogb) (2024.12.14)\n",
            "Requirement already satisfied: mpmath<1.4,>=1.1.0 in /usr/local/lib/python3.11/dist-packages (from sympy->torch>=1.6.0->ogb) (1.3.0)\n",
            "Downloading ogb-1.3.6-py3-none-any.whl (78 kB)\n",
            "\u001b[2K   \u001b[90m━━━━━━━━━━━━━━━━━━━━━━━━━━━━━━━━━━━━━━━━\u001b[0m \u001b[32m78.8/78.8 kB\u001b[0m \u001b[31m2.3 MB/s\u001b[0m eta \u001b[36m0:00:00\u001b[0m\n",
            "\u001b[?25hDownloading outdated-0.2.2-py2.py3-none-any.whl (7.5 kB)\n",
            "Downloading littleutils-0.2.4-py3-none-any.whl (8.1 kB)\n",
            "Installing collected packages: littleutils, outdated, ogb\n",
            "Successfully installed littleutils-0.2.4 ogb-1.3.6 outdated-0.2.2\n"
          ]
        }
      ]
    },
    {
      "cell_type": "code",
      "source": [
        "import torch\n",
        "import torch_geometric\n",
        "from torch_geometric.datasets import Planetoid\n"
      ],
      "metadata": {
        "id": "TgXTZ3mScqU3"
      },
      "execution_count": 38,
      "outputs": []
    },
    {
      "cell_type": "code",
      "source": [
        "dataset = Planetoid(root=\"/dataset\", name='Cora')"
      ],
      "metadata": {
        "id": "dscSwWd5c7HT"
      },
      "execution_count": 39,
      "outputs": []
    },
    {
      "cell_type": "code",
      "source": [
        "data = dataset[0]"
      ],
      "metadata": {
        "id": "7YAS_JH6dAGK"
      },
      "execution_count": 40,
      "outputs": []
    },
    {
      "cell_type": "code",
      "source": [
        "import random\n",
        "random.seed(8)\n",
        "index = random.sample(range(0, 2707), 270)\n",
        "index = sorted(index)\n",
        "index[:10] # Index of nodes removed from subgraph"
      ],
      "metadata": {
        "colab": {
          "base_uri": "https://localhost:8080/"
        },
        "id": "a02kaarHdCO5",
        "outputId": "18433750-b0ce-452e-e27e-77e6d49b4b62"
      },
      "execution_count": 41,
      "outputs": [
        {
          "output_type": "execute_result",
          "data": {
            "text/plain": [
              "[12, 18, 27, 48, 54, 69, 81, 92, 104, 124]"
            ]
          },
          "metadata": {},
          "execution_count": 41
        }
      ]
    },
    {
      "cell_type": "code",
      "source": [
        "mask = torch.ones(len(data.x), dtype=bool)\n",
        "mask[index] = False"
      ],
      "metadata": {
        "id": "3Koo-4HwdqeF"
      },
      "execution_count": 42,
      "outputs": []
    },
    {
      "cell_type": "code",
      "source": [
        "mask.nonzero(as_tuple=False).squeeze() # Indexes of Nodes which would be in subgraph"
      ],
      "metadata": {
        "colab": {
          "base_uri": "https://localhost:8080/"
        },
        "id": "vS6j_IDfd9ji",
        "outputId": "ff0f4af8-617c-4787-91de-7566c8224ae2"
      },
      "execution_count": 43,
      "outputs": [
        {
          "output_type": "execute_result",
          "data": {
            "text/plain": [
              "tensor([   0,    1,    2,  ..., 2704, 2705, 2707])"
            ]
          },
          "metadata": {},
          "execution_count": 43
        }
      ]
    },
    {
      "cell_type": "code",
      "source": [
        "original_to_relabel_map = {original_idx.item(): relabel_idx\n",
        "                           for relabel_idx, original_idx in enumerate(mask.nonzero(as_tuple=False).squeeze())}"
      ],
      "metadata": {
        "id": "UxPuf3TDeIRD"
      },
      "execution_count": 44,
      "outputs": []
    },
    {
      "cell_type": "code",
      "source": [
        "# creating subgraph\n",
        "subgraph = data.clone()\n",
        "\n",
        "subgraph.x = data.x[mask]\n",
        "subgraph.y = data.y[mask]\n",
        "\n",
        "subgraph.train_mask = data.train_mask[mask]\n",
        "subgraph.test_mask = data.test_mask[mask]\n",
        "subgraph.val_mask = data.val_mask[mask]\n",
        "\n",
        "subgraph.edge_index, _ = torch_geometric.utils.subgraph(mask, data.edge_index, relabel_nodes=True)\n"
      ],
      "metadata": {
        "id": "CL-W5dVNeagP"
      },
      "execution_count": 45,
      "outputs": []
    },
    {
      "cell_type": "code",
      "source": [
        "subgraph, subgraph.edge_index"
      ],
      "metadata": {
        "colab": {
          "base_uri": "https://localhost:8080/"
        },
        "id": "cQbMUvwBe7Av",
        "outputId": "6f772450-b4e2-4cbe-9267-09348f475690"
      },
      "execution_count": 46,
      "outputs": [
        {
          "output_type": "execute_result",
          "data": {
            "text/plain": [
              "(Data(x=[2438, 1433], edge_index=[2, 8478], y=[2438], train_mask=[2438], val_mask=[2438], test_mask=[2438]),\n",
              " tensor([[ 570, 1679, 2326,  ...,  151,  540, 1336],\n",
              "         [   0,    0,    0,  ..., 2437, 2437, 2437]]))"
            ]
          },
          "metadata": {},
          "execution_count": 46
        }
      ]
    },
    {
      "cell_type": "code",
      "source": [
        "removed_edges = [] # contains (x, y) these are the edge which were removed during the subgraph formation. Serves as the final test case to predict these edges.\n",
        "\n",
        "for i in index:\n",
        "  for j in range(10556):\n",
        "    if i == tuple(data.edge_index.t()[j].tolist())[0]:\n",
        "      removed_edges.append(tuple(data.edge_index.t()[j].tolist()))\n",
        "      #print(tuple(data.edge_index.t()[j].tolist()))\n"
      ],
      "metadata": {
        "id": "5FqsFltDel_e"
      },
      "execution_count": 13,
      "outputs": []
    },
    {
      "cell_type": "code",
      "source": [
        "from torch_geometric.utils import negative_sampling"
      ],
      "metadata": {
        "id": "vaRYlCwze-0Z"
      },
      "execution_count": 47,
      "outputs": []
    },
    {
      "cell_type": "code",
      "source": [
        "def Labels(data):\n",
        "  neg_edges = negative_sampling(data.edge_index, num_nodes=len(subgraph.x))\n",
        "  pos_edges = data.edge_index\n",
        "\n",
        "  combined_edges = torch.cat((pos_edges, neg_edges), dim=1)\n",
        "  labels = torch.cat((torch.ones(pos_edges.size(1)), torch.zeros(neg_edges.size(1))), dim=0)\n",
        "\n",
        "  return combined_edges, labels\n"
      ],
      "metadata": {
        "id": "AzB3reWvfc68"
      },
      "execution_count": 48,
      "outputs": []
    },
    {
      "cell_type": "code",
      "source": [
        "combined_edges, labels = Labels(subgraph)"
      ],
      "metadata": {
        "id": "LV_L5bAGfeKv"
      },
      "execution_count": 49,
      "outputs": []
    },
    {
      "cell_type": "code",
      "source": [
        "from torch_geometric.nn import SAGEConv\n",
        "import torch.nn.functional as f"
      ],
      "metadata": {
        "id": "FzJA_yiNfg86"
      },
      "execution_count": 50,
      "outputs": []
    },
    {
      "cell_type": "code",
      "source": [
        "class EdgePrediction(torch.nn.Module):\n",
        "  def __init__(self, hidden_dim, input_dim= dataset.num_features, output_dim = 1):\n",
        "    super().__init__()\n",
        "    self.conv1 = SAGEConv(input_dim, hidden_dim)\n",
        "    self.conv2 = SAGEConv(hidden_dim, input_dim)\n",
        "    #self.linear1 = torch.nn.Linear(input_dim *2, 128)\n",
        "\n",
        "    #self.linear2 = torch.nn.Linear(128, 32)\n",
        "    #self.output_layer = torch.nn.Linear(32, output_dim)\n",
        "\n",
        "  def forward(self, x: torch.tensor, edge_list: torch.tensor):\n",
        "    x = self.conv1(x, edge_list)\n",
        "    x = f.relu(x)\n",
        "    x = self.conv2(x, edge_list)\n",
        "    return x\n",
        "\n",
        "  #def predict(self, x: torch.tensor, edge_list: torch.tensor):\n",
        "    #embed = torch.cat([x[edge_list[0]], x[edge_list[1]]], dim=-1)\n",
        "    #out = self.linear1(embed)\n",
        "    #out = self.linear2(out)\n",
        "\n",
        "    #return self.output_layer(out).squeeze()\n"
      ],
      "metadata": {
        "id": "sxk9K8qL8x4t"
      },
      "execution_count": 52,
      "outputs": []
    },
    {
      "cell_type": "code",
      "source": [
        "model = EdgePrediction(128)\n",
        "model"
      ],
      "metadata": {
        "colab": {
          "base_uri": "https://localhost:8080/"
        },
        "id": "M6zrjtuMgWC5",
        "outputId": "df05836c-f3fd-4db3-d1ca-27840cda302b"
      },
      "execution_count": 53,
      "outputs": [
        {
          "output_type": "execute_result",
          "data": {
            "text/plain": [
              "EdgePrediction(\n",
              "  (conv1): SAGEConv(1433, 128, aggr=mean)\n",
              "  (conv2): SAGEConv(128, 1433, aggr=mean)\n",
              ")"
            ]
          },
          "metadata": {},
          "execution_count": 53
        }
      ]
    },
    {
      "cell_type": "code",
      "source": [
        "optimizer = torch.optim.Adam(model.parameters(), lr = 0.01)\n",
        "criterion = torch.nn.BCEWithLogitsLoss()"
      ],
      "metadata": {
        "id": "hCgQJIeY9Ddl"
      },
      "execution_count": 54,
      "outputs": []
    },
    {
      "cell_type": "code",
      "source": [
        "def accuracy(pred, label):\n",
        "  accu = 0.0\n",
        "\n",
        "  pred = (pred > 0.5).float()\n",
        "  count = (pred == label).sum().item()\n",
        "  accu = count / len(pred)\n",
        "  accu = round(accu, 4)\n",
        "  return accu\n",
        "\n",
        "def train(x, edge_index, combined_edges, labels):\n",
        "    model.train()\n",
        "    for epoch in range(200):\n",
        "        optimizer.zero_grad()\n",
        "\n",
        "        # Get node embeddings\n",
        "        node_emb = model(x, edge_index)\n",
        "\n",
        "        # Extract source and destination node embeddings\n",
        "        src = combined_edges[0]\n",
        "        dst = combined_edges[1]\n",
        "        src_emb = node_emb[src]\n",
        "        dst_emb = node_emb[dst]\n",
        "\n",
        "        # Compute dot product for edge prediction\n",
        "        dot_prd = (src_emb * dst_emb).sum(dim=1)\n",
        "        pred = torch.sigmoid(dot_prd)\n",
        "\n",
        "        # Compute loss\n",
        "        loss = criterion(pred, labels)\n",
        "\n",
        "        # Backpropagation\n",
        "        loss.backward()\n",
        "        optimizer.step()\n",
        "\n",
        "        # Compute accuracy\n",
        "        Accuracy = accuracy(pred, labels)\n",
        "\n",
        "        if epoch % 1 == 0 or epoch == 199:\n",
        "            print(f\"Epoch {epoch + 1}/200 - Loss: {loss.item():.4f}, Accuracy: {Accuracy}\")\n",
        "\n",
        "    return node_emb\n",
        "\n"
      ],
      "metadata": {
        "id": "UCawJmTV9lzz"
      },
      "execution_count": 55,
      "outputs": []
    },
    {
      "cell_type": "code",
      "source": [
        "emb = train(subgraph.x, subgraph.edge_index, combined_edges, labels)"
      ],
      "metadata": {
        "colab": {
          "base_uri": "https://localhost:8080/"
        },
        "id": "6zMbdxKE_LlQ",
        "outputId": "64a7d4b7-1253-403f-ab02-b9b515b7d4da"
      },
      "execution_count": 56,
      "outputs": [
        {
          "output_type": "stream",
          "name": "stdout",
          "text": [
            "Epoch 1/200 - Loss: 0.8112, Accuracy: 0.5\n",
            "Epoch 2/200 - Loss: 0.8098, Accuracy: 0.5023\n",
            "Epoch 3/200 - Loss: 0.7921, Accuracy: 0.5364\n",
            "Epoch 4/200 - Loss: 0.7835, Accuracy: 0.5472\n",
            "Epoch 5/200 - Loss: 0.7141, Accuracy: 0.6182\n",
            "Epoch 6/200 - Loss: 0.7195, Accuracy: 0.6456\n",
            "Epoch 7/200 - Loss: 0.6798, Accuracy: 0.7174\n",
            "Epoch 8/200 - Loss: 0.6782, Accuracy: 0.7091\n",
            "Epoch 9/200 - Loss: 0.6660, Accuracy: 0.7301\n",
            "Epoch 10/200 - Loss: 0.6588, Accuracy: 0.7483\n",
            "Epoch 11/200 - Loss: 0.6488, Accuracy: 0.76\n",
            "Epoch 12/200 - Loss: 0.6416, Accuracy: 0.7706\n",
            "Epoch 13/200 - Loss: 0.6348, Accuracy: 0.7816\n",
            "Epoch 14/200 - Loss: 0.6313, Accuracy: 0.7879\n",
            "Epoch 15/200 - Loss: 0.6247, Accuracy: 0.7982\n",
            "Epoch 16/200 - Loss: 0.6198, Accuracy: 0.8066\n",
            "Epoch 17/200 - Loss: 0.6147, Accuracy: 0.8166\n",
            "Epoch 18/200 - Loss: 0.6096, Accuracy: 0.8267\n",
            "Epoch 19/200 - Loss: 0.6055, Accuracy: 0.8335\n",
            "Epoch 20/200 - Loss: 0.6020, Accuracy: 0.8399\n",
            "Epoch 21/200 - Loss: 0.5986, Accuracy: 0.8452\n",
            "Epoch 22/200 - Loss: 0.5958, Accuracy: 0.8496\n",
            "Epoch 23/200 - Loss: 0.5928, Accuracy: 0.8552\n",
            "Epoch 24/200 - Loss: 0.5910, Accuracy: 0.8577\n",
            "Epoch 25/200 - Loss: 0.5884, Accuracy: 0.863\n",
            "Epoch 26/200 - Loss: 0.5862, Accuracy: 0.866\n",
            "Epoch 27/200 - Loss: 0.5843, Accuracy: 0.8703\n",
            "Epoch 28/200 - Loss: 0.5825, Accuracy: 0.8722\n",
            "Epoch 29/200 - Loss: 0.5809, Accuracy: 0.875\n",
            "Epoch 30/200 - Loss: 0.5792, Accuracy: 0.878\n",
            "Epoch 31/200 - Loss: 0.5778, Accuracy: 0.8802\n",
            "Epoch 32/200 - Loss: 0.5766, Accuracy: 0.8823\n",
            "Epoch 33/200 - Loss: 0.5753, Accuracy: 0.8847\n",
            "Epoch 34/200 - Loss: 0.5743, Accuracy: 0.8862\n",
            "Epoch 35/200 - Loss: 0.5733, Accuracy: 0.8875\n",
            "Epoch 36/200 - Loss: 0.5724, Accuracy: 0.8887\n",
            "Epoch 37/200 - Loss: 0.5715, Accuracy: 0.8907\n",
            "Epoch 38/200 - Loss: 0.5707, Accuracy: 0.8918\n",
            "Epoch 39/200 - Loss: 0.5700, Accuracy: 0.8928\n",
            "Epoch 40/200 - Loss: 0.5695, Accuracy: 0.8934\n",
            "Epoch 41/200 - Loss: 0.5689, Accuracy: 0.8947\n",
            "Epoch 42/200 - Loss: 0.5684, Accuracy: 0.8957\n",
            "Epoch 43/200 - Loss: 0.5677, Accuracy: 0.8963\n",
            "Epoch 44/200 - Loss: 0.5673, Accuracy: 0.8971\n",
            "Epoch 45/200 - Loss: 0.5669, Accuracy: 0.8979\n",
            "Epoch 46/200 - Loss: 0.5665, Accuracy: 0.8987\n",
            "Epoch 47/200 - Loss: 0.5662, Accuracy: 0.8991\n",
            "Epoch 48/200 - Loss: 0.5659, Accuracy: 0.899\n",
            "Epoch 49/200 - Loss: 0.5654, Accuracy: 0.8999\n",
            "Epoch 50/200 - Loss: 0.5650, Accuracy: 0.9005\n",
            "Epoch 51/200 - Loss: 0.5647, Accuracy: 0.9015\n",
            "Epoch 52/200 - Loss: 0.5643, Accuracy: 0.9019\n",
            "Epoch 53/200 - Loss: 0.5639, Accuracy: 0.9027\n",
            "Epoch 54/200 - Loss: 0.5636, Accuracy: 0.9033\n",
            "Epoch 55/200 - Loss: 0.5633, Accuracy: 0.9035\n",
            "Epoch 56/200 - Loss: 0.5632, Accuracy: 0.9035\n",
            "Epoch 57/200 - Loss: 0.5629, Accuracy: 0.904\n",
            "Epoch 58/200 - Loss: 0.5628, Accuracy: 0.9041\n",
            "Epoch 59/200 - Loss: 0.5625, Accuracy: 0.9047\n",
            "Epoch 60/200 - Loss: 0.5622, Accuracy: 0.9052\n",
            "Epoch 61/200 - Loss: 0.5622, Accuracy: 0.9051\n",
            "Epoch 62/200 - Loss: 0.5619, Accuracy: 0.9055\n",
            "Epoch 63/200 - Loss: 0.5617, Accuracy: 0.9059\n",
            "Epoch 64/200 - Loss: 0.5615, Accuracy: 0.9061\n",
            "Epoch 65/200 - Loss: 0.5613, Accuracy: 0.9063\n",
            "Epoch 66/200 - Loss: 0.5612, Accuracy: 0.9066\n",
            "Epoch 67/200 - Loss: 0.5609, Accuracy: 0.9071\n",
            "Epoch 68/200 - Loss: 0.5608, Accuracy: 0.9072\n",
            "Epoch 69/200 - Loss: 0.5606, Accuracy: 0.9075\n",
            "Epoch 70/200 - Loss: 0.5604, Accuracy: 0.9079\n",
            "Epoch 71/200 - Loss: 0.5603, Accuracy: 0.908\n",
            "Epoch 72/200 - Loss: 0.5602, Accuracy: 0.9084\n",
            "Epoch 73/200 - Loss: 0.5600, Accuracy: 0.9086\n",
            "Epoch 74/200 - Loss: 0.5599, Accuracy: 0.9088\n",
            "Epoch 75/200 - Loss: 0.5597, Accuracy: 0.9089\n",
            "Epoch 76/200 - Loss: 0.5596, Accuracy: 0.9092\n",
            "Epoch 77/200 - Loss: 0.5594, Accuracy: 0.9094\n",
            "Epoch 78/200 - Loss: 0.5593, Accuracy: 0.9096\n",
            "Epoch 79/200 - Loss: 0.5592, Accuracy: 0.9096\n",
            "Epoch 80/200 - Loss: 0.5591, Accuracy: 0.9098\n",
            "Epoch 81/200 - Loss: 0.5590, Accuracy: 0.9101\n",
            "Epoch 82/200 - Loss: 0.5589, Accuracy: 0.9101\n",
            "Epoch 83/200 - Loss: 0.5588, Accuracy: 0.9104\n",
            "Epoch 84/200 - Loss: 0.5587, Accuracy: 0.9104\n",
            "Epoch 85/200 - Loss: 0.5587, Accuracy: 0.9104\n",
            "Epoch 86/200 - Loss: 0.5586, Accuracy: 0.9105\n",
            "Epoch 87/200 - Loss: 0.5585, Accuracy: 0.9106\n",
            "Epoch 88/200 - Loss: 0.5584, Accuracy: 0.9107\n",
            "Epoch 89/200 - Loss: 0.5584, Accuracy: 0.9109\n",
            "Epoch 90/200 - Loss: 0.5583, Accuracy: 0.911\n",
            "Epoch 91/200 - Loss: 0.5583, Accuracy: 0.9109\n",
            "Epoch 92/200 - Loss: 0.5583, Accuracy: 0.9109\n",
            "Epoch 93/200 - Loss: 0.5581, Accuracy: 0.9111\n",
            "Epoch 94/200 - Loss: 0.5581, Accuracy: 0.9111\n",
            "Epoch 95/200 - Loss: 0.5580, Accuracy: 0.9112\n",
            "Epoch 96/200 - Loss: 0.5579, Accuracy: 0.9113\n",
            "Epoch 97/200 - Loss: 0.5578, Accuracy: 0.9115\n",
            "Epoch 98/200 - Loss: 0.5578, Accuracy: 0.9118\n",
            "Epoch 99/200 - Loss: 0.5577, Accuracy: 0.9119\n",
            "Epoch 100/200 - Loss: 0.5576, Accuracy: 0.9121\n",
            "Epoch 101/200 - Loss: 0.5575, Accuracy: 0.9122\n",
            "Epoch 102/200 - Loss: 0.5575, Accuracy: 0.9122\n",
            "Epoch 103/200 - Loss: 0.5573, Accuracy: 0.9125\n",
            "Epoch 104/200 - Loss: 0.5572, Accuracy: 0.9126\n",
            "Epoch 105/200 - Loss: 0.5572, Accuracy: 0.9127\n",
            "Epoch 106/200 - Loss: 0.5570, Accuracy: 0.9131\n",
            "Epoch 107/200 - Loss: 0.5569, Accuracy: 0.9131\n",
            "Epoch 108/200 - Loss: 0.5569, Accuracy: 0.9131\n",
            "Epoch 109/200 - Loss: 0.5569, Accuracy: 0.9132\n",
            "Epoch 110/200 - Loss: 0.5568, Accuracy: 0.9132\n",
            "Epoch 111/200 - Loss: 0.5567, Accuracy: 0.9133\n",
            "Epoch 112/200 - Loss: 0.5567, Accuracy: 0.9134\n",
            "Epoch 113/200 - Loss: 0.5565, Accuracy: 0.9137\n",
            "Epoch 114/200 - Loss: 0.5565, Accuracy: 0.9138\n",
            "Epoch 115/200 - Loss: 0.5563, Accuracy: 0.914\n",
            "Epoch 116/200 - Loss: 0.5562, Accuracy: 0.9142\n",
            "Epoch 117/200 - Loss: 0.5561, Accuracy: 0.9144\n",
            "Epoch 118/200 - Loss: 0.5561, Accuracy: 0.9145\n",
            "Epoch 119/200 - Loss: 0.5562, Accuracy: 0.9147\n",
            "Epoch 120/200 - Loss: 0.5561, Accuracy: 0.9151\n",
            "Epoch 121/200 - Loss: 0.5561, Accuracy: 0.9151\n",
            "Epoch 122/200 - Loss: 0.5559, Accuracy: 0.9154\n",
            "Epoch 123/200 - Loss: 0.5558, Accuracy: 0.9153\n",
            "Epoch 124/200 - Loss: 0.5555, Accuracy: 0.9156\n",
            "Epoch 125/200 - Loss: 0.5553, Accuracy: 0.916\n",
            "Epoch 126/200 - Loss: 0.5552, Accuracy: 0.916\n",
            "Epoch 127/200 - Loss: 0.5553, Accuracy: 0.9158\n",
            "Epoch 128/200 - Loss: 0.5554, Accuracy: 0.9157\n",
            "Epoch 129/200 - Loss: 0.5553, Accuracy: 0.9158\n",
            "Epoch 130/200 - Loss: 0.5552, Accuracy: 0.9161\n",
            "Epoch 131/200 - Loss: 0.5551, Accuracy: 0.9163\n",
            "Epoch 132/200 - Loss: 0.5551, Accuracy: 0.9163\n",
            "Epoch 133/200 - Loss: 0.5550, Accuracy: 0.9165\n",
            "Epoch 134/200 - Loss: 0.5548, Accuracy: 0.9168\n",
            "Epoch 135/200 - Loss: 0.5547, Accuracy: 0.9169\n",
            "Epoch 136/200 - Loss: 0.5547, Accuracy: 0.917\n",
            "Epoch 137/200 - Loss: 0.5545, Accuracy: 0.9171\n",
            "Epoch 138/200 - Loss: 0.5545, Accuracy: 0.9171\n",
            "Epoch 139/200 - Loss: 0.5544, Accuracy: 0.9172\n",
            "Epoch 140/200 - Loss: 0.5544, Accuracy: 0.9173\n",
            "Epoch 141/200 - Loss: 0.5541, Accuracy: 0.9178\n",
            "Epoch 142/200 - Loss: 0.5540, Accuracy: 0.9179\n",
            "Epoch 143/200 - Loss: 0.5540, Accuracy: 0.9178\n",
            "Epoch 144/200 - Loss: 0.5539, Accuracy: 0.9177\n",
            "Epoch 145/200 - Loss: 0.5541, Accuracy: 0.9174\n",
            "Epoch 146/200 - Loss: 0.5538, Accuracy: 0.918\n",
            "Epoch 147/200 - Loss: 0.5538, Accuracy: 0.918\n",
            "Epoch 148/200 - Loss: 0.5535, Accuracy: 0.9188\n",
            "Epoch 149/200 - Loss: 0.5534, Accuracy: 0.9189\n",
            "Epoch 150/200 - Loss: 0.5533, Accuracy: 0.919\n",
            "Epoch 151/200 - Loss: 0.5533, Accuracy: 0.9189\n",
            "Epoch 152/200 - Loss: 0.5533, Accuracy: 0.9189\n",
            "Epoch 153/200 - Loss: 0.5532, Accuracy: 0.919\n",
            "Epoch 154/200 - Loss: 0.5531, Accuracy: 0.9192\n",
            "Epoch 155/200 - Loss: 0.5531, Accuracy: 0.9192\n",
            "Epoch 156/200 - Loss: 0.5530, Accuracy: 0.9193\n",
            "Epoch 157/200 - Loss: 0.5531, Accuracy: 0.9192\n",
            "Epoch 158/200 - Loss: 0.5531, Accuracy: 0.9192\n",
            "Epoch 159/200 - Loss: 0.5531, Accuracy: 0.9191\n",
            "Epoch 160/200 - Loss: 0.5531, Accuracy: 0.919\n",
            "Epoch 161/200 - Loss: 0.5530, Accuracy: 0.9193\n",
            "Epoch 162/200 - Loss: 0.5530, Accuracy: 0.9193\n",
            "Epoch 163/200 - Loss: 0.5530, Accuracy: 0.9194\n",
            "Epoch 164/200 - Loss: 0.5529, Accuracy: 0.9195\n",
            "Epoch 165/200 - Loss: 0.5529, Accuracy: 0.9194\n",
            "Epoch 166/200 - Loss: 0.5528, Accuracy: 0.9195\n",
            "Epoch 167/200 - Loss: 0.5528, Accuracy: 0.9196\n",
            "Epoch 168/200 - Loss: 0.5528, Accuracy: 0.9196\n",
            "Epoch 169/200 - Loss: 0.5528, Accuracy: 0.9196\n",
            "Epoch 170/200 - Loss: 0.5528, Accuracy: 0.9195\n",
            "Epoch 171/200 - Loss: 0.5528, Accuracy: 0.9196\n",
            "Epoch 172/200 - Loss: 0.5528, Accuracy: 0.9196\n",
            "Epoch 173/200 - Loss: 0.5527, Accuracy: 0.9196\n",
            "Epoch 174/200 - Loss: 0.5527, Accuracy: 0.9196\n",
            "Epoch 175/200 - Loss: 0.5527, Accuracy: 0.9197\n",
            "Epoch 176/200 - Loss: 0.5526, Accuracy: 0.9197\n",
            "Epoch 177/200 - Loss: 0.5526, Accuracy: 0.9197\n",
            "Epoch 178/200 - Loss: 0.5526, Accuracy: 0.9198\n",
            "Epoch 179/200 - Loss: 0.5526, Accuracy: 0.9198\n",
            "Epoch 180/200 - Loss: 0.5525, Accuracy: 0.92\n",
            "Epoch 181/200 - Loss: 0.5524, Accuracy: 0.9202\n",
            "Epoch 182/200 - Loss: 0.5523, Accuracy: 0.9204\n",
            "Epoch 183/200 - Loss: 0.5521, Accuracy: 0.9207\n",
            "Epoch 184/200 - Loss: 0.5519, Accuracy: 0.9211\n",
            "Epoch 185/200 - Loss: 0.5518, Accuracy: 0.9213\n",
            "Epoch 186/200 - Loss: 0.5517, Accuracy: 0.9214\n",
            "Epoch 187/200 - Loss: 0.5515, Accuracy: 0.9219\n",
            "Epoch 188/200 - Loss: 0.5513, Accuracy: 0.9222\n",
            "Epoch 189/200 - Loss: 0.5511, Accuracy: 0.9227\n",
            "Epoch 190/200 - Loss: 0.5513, Accuracy: 0.9224\n",
            "Epoch 191/200 - Loss: 0.5514, Accuracy: 0.9223\n",
            "Epoch 192/200 - Loss: 0.5511, Accuracy: 0.9227\n",
            "Epoch 193/200 - Loss: 0.5514, Accuracy: 0.9222\n",
            "Epoch 194/200 - Loss: 0.5507, Accuracy: 0.9233\n",
            "Epoch 195/200 - Loss: 0.5512, Accuracy: 0.9223\n",
            "Epoch 196/200 - Loss: 0.5511, Accuracy: 0.9224\n",
            "Epoch 197/200 - Loss: 0.5509, Accuracy: 0.9226\n",
            "Epoch 198/200 - Loss: 0.5507, Accuracy: 0.9227\n",
            "Epoch 199/200 - Loss: 0.5504, Accuracy: 0.9232\n",
            "Epoch 200/200 - Loss: 0.5502, Accuracy: 0.9236\n"
          ]
        }
      ]
    },
    {
      "cell_type": "code",
      "source": [
        "e = emb\n",
        "e.size()"
      ],
      "metadata": {
        "colab": {
          "base_uri": "https://localhost:8080/"
        },
        "id": "TOJ1UkpKD649",
        "outputId": "5592c2ff-da90-40ba-b16b-801d4ecc5eb2"
      },
      "execution_count": 57,
      "outputs": [
        {
          "output_type": "execute_result",
          "data": {
            "text/plain": [
              "torch.Size([2438, 1433])"
            ]
          },
          "metadata": {},
          "execution_count": 57
        }
      ]
    },
    {
      "cell_type": "code",
      "source": [
        "modified_data = data.clone()\n"
      ],
      "metadata": {
        "id": "4n6l0-sPHup2"
      },
      "execution_count": 58,
      "outputs": []
    },
    {
      "cell_type": "code",
      "source": [
        "for original_index, relabel_index in original_to_relabel_map.items():\n",
        "  modified_data.x[original_index] = e[relabel_index]\n",
        "\n",
        "modified_data"
      ],
      "metadata": {
        "colab": {
          "base_uri": "https://localhost:8080/"
        },
        "id": "mn0TtQW9HuZ_",
        "outputId": "858a8699-02de-4462-b02f-50785040b958"
      },
      "execution_count": 59,
      "outputs": [
        {
          "output_type": "execute_result",
          "data": {
            "text/plain": [
              "Data(x=[2708, 1433], edge_index=[2, 10556], y=[2708], train_mask=[2708], val_mask=[2708], test_mask=[2708])"
            ]
          },
          "metadata": {},
          "execution_count": 59
        }
      ]
    },
    {
      "cell_type": "code",
      "source": [
        "modified_data.x[11], modified_data.x[12]"
      ],
      "metadata": {
        "colab": {
          "base_uri": "https://localhost:8080/"
        },
        "id": "t4SC2FgpKbZn",
        "outputId": "ec9c0c14-2496-4069-8425-fe3aa79b5277"
      },
      "execution_count": 60,
      "outputs": [
        {
          "output_type": "execute_result",
          "data": {
            "text/plain": [
              "(tensor([ 0.0548,  0.0856,  0.0040,  ..., -0.0575,  0.0327, -0.0348],\n",
              "        grad_fn=<SelectBackward0>),\n",
              " tensor([0., 0., 0.,  ..., 0., 0., 0.], grad_fn=<SelectBackward0>))"
            ]
          },
          "metadata": {},
          "execution_count": 60
        }
      ]
    },
    {
      "cell_type": "code",
      "source": [
        "removed_edges_tensor = torch.tensor(removed_edges).T\n",
        "removed_edges_tensor.size(), removed_edges_tensor"
      ],
      "metadata": {
        "colab": {
          "base_uri": "https://localhost:8080/"
        },
        "id": "OcaWPUZ_KbWP",
        "outputId": "23e0efa1-79ee-487b-b708-f515a79ac33d"
      },
      "execution_count": 61,
      "outputs": [
        {
          "output_type": "execute_result",
          "data": {
            "text/plain": [
              "(torch.Size([2, 1106]),\n",
              " tensor([[  12,   12,   12,  ..., 2706, 2706, 2706],\n",
              "         [1001, 1318, 2661,  ...,  169, 1473, 2707]]))"
            ]
          },
          "metadata": {},
          "execution_count": 61
        }
      ]
    },
    {
      "cell_type": "code",
      "source": [
        "# To test on all the edges\n",
        "src = modified_data.edge_index[0]\n",
        "dst = modified_data.edge_index[1]\n",
        "src_emb = modified_data.x[src]\n",
        "dst_emb = modified_data.x[dst]\n",
        "\n",
        "# Compute dot product for edge prediction\n",
        "dot_prd = (src_emb * dst_emb).sum(dim=1)\n",
        "pred = torch.sigmoid(dot_prd).round()\n",
        "\n",
        "Test_Accuracy_overall = float((pred == 1).sum()/ len(pred))\n",
        "Test_Accuracy_overall"
      ],
      "metadata": {
        "colab": {
          "base_uri": "https://localhost:8080/"
        },
        "id": "l2C5dK-qLwdT",
        "outputId": "fa935dd3-62d7-49a2-fdc7-d0e9ea8b15d3"
      },
      "execution_count": 62,
      "outputs": [
        {
          "output_type": "execute_result",
          "data": {
            "text/plain": [
              "0.8946570754051208"
            ]
          },
          "metadata": {},
          "execution_count": 62
        }
      ]
    },
    {
      "cell_type": "code",
      "source": [
        "# To test on all the removed edges\n",
        "src = removed_edges_tensor[0]\n",
        "dst = removed_edges_tensor[1]\n",
        "src_emb = modified_data.x[src]\n",
        "dst_emb = modified_data.x[dst]\n",
        "\n",
        "# Compute dot product for edge prediction\n",
        "dot_prd = (src_emb * dst_emb).sum(dim=1)\n",
        "pred = torch.sigmoid(dot_prd).round()\n",
        "\n",
        "Test_Accuracy_overall_removed = float((pred == 1).sum()/ len(pred))\n",
        "Test_Accuracy_overall_removed"
      ],
      "metadata": {
        "colab": {
          "base_uri": "https://localhost:8080/"
        },
        "id": "gsxKsbyVLwZu",
        "outputId": "44edd237-5939-482f-faf9-e868333fd89e"
      },
      "execution_count": 63,
      "outputs": [
        {
          "output_type": "execute_result",
          "data": {
            "text/plain": [
              "0.5081374049186707"
            ]
          },
          "metadata": {},
          "execution_count": 63
        }
      ]
    },
    {
      "cell_type": "code",
      "source": [
        "src_nodes = data.edge_index[0]\n",
        "dest_nodes = data.edge_index[1]\n",
        "\n",
        "degree_map = {} # Degree of each of the nodes sampled: key-> node index; value-> degree\n",
        "for i in index:\n",
        "  count = 0\n",
        "  for j in src_nodes:\n",
        "    if i == j:\n",
        "      count = count + 1\n",
        "  degree_map[i] = count\n",
        "\n",
        "degree_sampled = list(set(degree_map.values()))\n",
        "degree_sampled"
      ],
      "metadata": {
        "colab": {
          "base_uri": "https://localhost:8080/"
        },
        "id": "m2XPQuNcLwXX",
        "outputId": "2351b196-a0ef-456d-f6c1-0f2afd544d95"
      },
      "execution_count": 64,
      "outputs": [
        {
          "output_type": "execute_result",
          "data": {
            "text/plain": [
              "[1, 2, 3, 4, 5, 6, 7, 8, 9, 10, 11, 12, 13, 16, 17, 18, 22, 34, 42, 65]"
            ]
          },
          "metadata": {},
          "execution_count": 64
        }
      ]
    },
    {
      "cell_type": "code",
      "source": [
        "list(degree_map.items())[:5]"
      ],
      "metadata": {
        "colab": {
          "base_uri": "https://localhost:8080/"
        },
        "id": "X69_2AMdLwVE",
        "outputId": "3af1bcff-ce1a-4133-e631-46d896347eb7"
      },
      "execution_count": 64,
      "outputs": [
        {
          "output_type": "execute_result",
          "data": {
            "text/plain": [
              "[(12, 4), (18, 5), (27, 4), (48, 9), (54, 2)]"
            ]
          },
          "metadata": {},
          "execution_count": 64
        }
      ]
    },
    {
      "cell_type": "code",
      "source": [
        "d = {} # Dictionary: key-> unique node degree; values-> list(nodes indexes which has degree as the key value)\n",
        "for i in degree_sampled:\n",
        "  l = []\n",
        "  for j in degree_map.keys():\n",
        "    if(degree_map[j] == i):\n",
        "      l.append(j)\n",
        "  d[i] = l\n"
      ],
      "metadata": {
        "id": "GRAbFWxJLwS5"
      },
      "execution_count": 65,
      "outputs": []
    },
    {
      "cell_type": "code",
      "source": [
        "degree_based_tuples = []\n",
        "\n",
        "for degree, nodes in d.items():\n",
        "    degree_tuples = []\n",
        "    for node in nodes:\n",
        "        for edge in removed_edges:\n",
        "            if edge[0] == node:\n",
        "                degree_tuples.append(edge)\n",
        "    degree_based_tuples.append(degree_tuples)"
      ],
      "metadata": {
        "id": "5BwBJEz-Nt9N"
      },
      "execution_count": 84,
      "outputs": []
    },
    {
      "cell_type": "code",
      "source": [
        "for i in degree_based_tuples:\n",
        "  print(len(i))"
      ],
      "metadata": {
        "colab": {
          "base_uri": "https://localhost:8080/"
        },
        "id": "zwuI9owG3ner",
        "outputId": "a6fb313e-4a35-46a8-8c9a-8915ff4a23e2"
      },
      "execution_count": 104,
      "outputs": [
        {
          "output_type": "stream",
          "name": "stdout",
          "text": [
            "44\n",
            "100\n",
            "192\n",
            "192\n",
            "135\n",
            "60\n",
            "49\n",
            "56\n",
            "18\n",
            "10\n",
            "11\n",
            "12\n",
            "13\n",
            "16\n",
            "17\n",
            "18\n",
            "22\n",
            "34\n",
            "42\n",
            "65\n"
          ]
        }
      ]
    },
    {
      "cell_type": "code",
      "source": [
        "l = list(d.keys())\n",
        "count = 0\n",
        "for i in degree_based_tuples:\n",
        "  removed_edges_tensor = torch.tensor(i).T\n",
        "  src = removed_edges_tensor[0]\n",
        "  dst = removed_edges_tensor[1]\n",
        "  src_emb = modified_data.x[src]\n",
        "  dst_emb = modified_data.x[dst]\n",
        "\n",
        "  # Compute dot product for edge prediction\n",
        "  dot_prd = (src_emb * dst_emb).sum(dim=1)\n",
        "  pred = torch.sigmoid(dot_prd).round()\n",
        "\n",
        "  Test_Accuracy_removed = float((pred == 1).sum()/ len(pred))\n",
        "  print(\"Degree {}\".format(l[count]),Test_Accuracy_removed)\n",
        "  count = count+1\n",
        "\n",
        "\n",
        ""
      ],
      "metadata": {
        "colab": {
          "base_uri": "https://localhost:8080/"
        },
        "id": "NYSjAT74Nt60",
        "outputId": "cb822c17-9c8e-45ea-cb21-2acee8883347"
      },
      "execution_count": 92,
      "outputs": [
        {
          "output_type": "stream",
          "name": "stdout",
          "text": [
            "Degree 1 0.5227272510528564\n",
            "Degree 2 0.5799999833106995\n",
            "Degree 3 0.5520833134651184\n",
            "Degree 4 0.40625\n",
            "Degree 5 0.4962962865829468\n",
            "Degree 6 0.550000011920929\n",
            "Degree 7 0.6530612111091614\n",
            "Degree 8 0.4107142984867096\n",
            "Degree 9 0.6111111044883728\n",
            "Degree 10 0.30000001192092896\n",
            "Degree 11 0.6363636255264282\n",
            "Degree 12 0.3333333432674408\n",
            "Degree 13 0.7692307829856873\n",
            "Degree 16 1.0\n",
            "Degree 17 0.29411765933036804\n",
            "Degree 18 0.5555555820465088\n",
            "Degree 22 0.3636363744735718\n",
            "Degree 34 0.6764705777168274\n",
            "Degree 42 0.2380952388048172\n",
            "Degree 65 0.5384615659713745\n"
          ]
        }
      ]
    },
    {
      "cell_type": "code",
      "source": [],
      "metadata": {
        "id": "0gUdPDFuNt16"
      },
      "execution_count": null,
      "outputs": []
    },
    {
      "cell_type": "code",
      "source": [],
      "metadata": {
        "id": "54FFh4HagePO"
      },
      "execution_count": null,
      "outputs": []
    },
    {
      "cell_type": "code",
      "source": [],
      "metadata": {
        "id": "Rf4GQHBpkkSM"
      },
      "execution_count": null,
      "outputs": []
    }
  ]
}