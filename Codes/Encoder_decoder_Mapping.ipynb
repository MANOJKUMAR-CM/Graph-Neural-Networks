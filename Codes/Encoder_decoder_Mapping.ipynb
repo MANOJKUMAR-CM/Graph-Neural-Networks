{
  "nbformat": 4,
  "nbformat_minor": 0,
  "metadata": {
    "colab": {
      "provenance": [],
      "gpuType": "T4"
    },
    "kernelspec": {
      "name": "python3",
      "display_name": "Python 3"
    },
    "language_info": {
      "name": "python"
    },
    "accelerator": "GPU"
  },
  "cells": [
    {
      "cell_type": "code",
      "execution_count": 1,
      "metadata": {
        "id": "BB5fOX9cuh15"
      },
      "outputs": [],
      "source": [
        "import numpy as np\n",
        "import itertools\n",
        "import torch\n",
        "from sklearn.model_selection import train_test_split"
      ]
    },
    {
      "cell_type": "code",
      "source": [
        "N = 16\n",
        "K = 8"
      ],
      "metadata": {
        "id": "K2ZFsimau3er"
      },
      "execution_count": 2,
      "outputs": []
    },
    {
      "cell_type": "code",
      "source": [
        "s = list(itertools.combinations(range(N), K))"
      ],
      "metadata": {
        "id": "sFh9eOr5vBI8"
      },
      "execution_count": 3,
      "outputs": []
    },
    {
      "cell_type": "code",
      "source": [
        "s[:10]"
      ],
      "metadata": {
        "colab": {
          "base_uri": "https://localhost:8080/"
        },
        "id": "Wa1WbGH0vKpO",
        "outputId": "960321a5-7f5a-402c-a91d-92ec57654cdd"
      },
      "execution_count": 4,
      "outputs": [
        {
          "output_type": "execute_result",
          "data": {
            "text/plain": [
              "[(0, 1, 2, 3, 4, 5, 6, 7),\n",
              " (0, 1, 2, 3, 4, 5, 6, 8),\n",
              " (0, 1, 2, 3, 4, 5, 6, 9),\n",
              " (0, 1, 2, 3, 4, 5, 6, 10),\n",
              " (0, 1, 2, 3, 4, 5, 6, 11),\n",
              " (0, 1, 2, 3, 4, 5, 6, 12),\n",
              " (0, 1, 2, 3, 4, 5, 6, 13),\n",
              " (0, 1, 2, 3, 4, 5, 6, 14),\n",
              " (0, 1, 2, 3, 4, 5, 6, 15),\n",
              " (0, 1, 2, 3, 4, 5, 7, 8)]"
            ]
          },
          "metadata": {},
          "execution_count": 4
        }
      ]
    },
    {
      "cell_type": "code",
      "source": [
        "labels = []\n",
        "for i in s:\n",
        "  labels.append([1 if j in i else 0 for j in range(N)])"
      ],
      "metadata": {
        "id": "UzlhWhmtvL_G"
      },
      "execution_count": 5,
      "outputs": []
    },
    {
      "cell_type": "code",
      "source": [
        "labels[:10]"
      ],
      "metadata": {
        "colab": {
          "base_uri": "https://localhost:8080/"
        },
        "id": "mzQGTIkzv-Jq",
        "outputId": "a5c69cdb-1861-4360-a6cd-cbc629a33214"
      },
      "execution_count": 6,
      "outputs": [
        {
          "output_type": "execute_result",
          "data": {
            "text/plain": [
              "[[1, 1, 1, 1, 1, 1, 1, 1, 0, 0, 0, 0, 0, 0, 0, 0],\n",
              " [1, 1, 1, 1, 1, 1, 1, 0, 1, 0, 0, 0, 0, 0, 0, 0],\n",
              " [1, 1, 1, 1, 1, 1, 1, 0, 0, 1, 0, 0, 0, 0, 0, 0],\n",
              " [1, 1, 1, 1, 1, 1, 1, 0, 0, 0, 1, 0, 0, 0, 0, 0],\n",
              " [1, 1, 1, 1, 1, 1, 1, 0, 0, 0, 0, 1, 0, 0, 0, 0],\n",
              " [1, 1, 1, 1, 1, 1, 1, 0, 0, 0, 0, 0, 1, 0, 0, 0],\n",
              " [1, 1, 1, 1, 1, 1, 1, 0, 0, 0, 0, 0, 0, 1, 0, 0],\n",
              " [1, 1, 1, 1, 1, 1, 1, 0, 0, 0, 0, 0, 0, 0, 1, 0],\n",
              " [1, 1, 1, 1, 1, 1, 1, 0, 0, 0, 0, 0, 0, 0, 0, 1],\n",
              " [1, 1, 1, 1, 1, 1, 0, 1, 1, 0, 0, 0, 0, 0, 0, 0]]"
            ]
          },
          "metadata": {},
          "execution_count": 6
        }
      ]
    },
    {
      "cell_type": "code",
      "source": [
        "inputs= []\n",
        "for i in range(len(s)):\n",
        "  inputs.append([int(bit) for bit in format(i, '014b')])"
      ],
      "metadata": {
        "id": "bdMdOPcgv_en"
      },
      "execution_count": 8,
      "outputs": []
    },
    {
      "cell_type": "code",
      "source": [
        "inputs[:10]"
      ],
      "metadata": {
        "colab": {
          "base_uri": "https://localhost:8080/"
        },
        "id": "PU2MHwqOwxBz",
        "outputId": "90218a0b-d4a1-4e27-e1de-dd34e32c4fbe"
      },
      "execution_count": 9,
      "outputs": [
        {
          "output_type": "execute_result",
          "data": {
            "text/plain": [
              "[[0, 0, 0, 0, 0, 0, 0, 0, 0, 0, 0, 0, 0, 0],\n",
              " [0, 0, 0, 0, 0, 0, 0, 0, 0, 0, 0, 0, 0, 1],\n",
              " [0, 0, 0, 0, 0, 0, 0, 0, 0, 0, 0, 0, 1, 0],\n",
              " [0, 0, 0, 0, 0, 0, 0, 0, 0, 0, 0, 0, 1, 1],\n",
              " [0, 0, 0, 0, 0, 0, 0, 0, 0, 0, 0, 1, 0, 0],\n",
              " [0, 0, 0, 0, 0, 0, 0, 0, 0, 0, 0, 1, 0, 1],\n",
              " [0, 0, 0, 0, 0, 0, 0, 0, 0, 0, 0, 1, 1, 0],\n",
              " [0, 0, 0, 0, 0, 0, 0, 0, 0, 0, 0, 1, 1, 1],\n",
              " [0, 0, 0, 0, 0, 0, 0, 0, 0, 0, 1, 0, 0, 0],\n",
              " [0, 0, 0, 0, 0, 0, 0, 0, 0, 0, 1, 0, 0, 1]]"
            ]
          },
          "metadata": {},
          "execution_count": 9
        }
      ]
    },
    {
      "cell_type": "code",
      "source": [
        "inputs = np.array(inputs, dtype=np.float32)\n",
        "labels = np.array(labels, dtype=np.float32)"
      ],
      "metadata": {
        "id": "ocpLAitXxSJA"
      },
      "execution_count": 10,
      "outputs": []
    },
    {
      "cell_type": "code",
      "source": [
        "xtrain, xtest, ytrain, ytest = train_test_split(inputs, labels, test_size=0.7, random_state=42)"
      ],
      "metadata": {
        "id": "bMsKPQtrxgEZ"
      },
      "execution_count": 59,
      "outputs": []
    },
    {
      "cell_type": "code",
      "source": [
        "print(\"Training data shape:\", xtrain.shape)\n",
        "print(\"Testing data shape:\", xtest.shape)\n",
        "print(\"Training labels shape:\", ytrain.shape)\n",
        "print(\"Testing labels shape:\", ytest.shape)"
      ],
      "metadata": {
        "colab": {
          "base_uri": "https://localhost:8080/"
        },
        "id": "N7Yp_sN4xqAQ",
        "outputId": "86c0bfd6-7893-4da4-ed0e-398fc8794528"
      },
      "execution_count": 60,
      "outputs": [
        {
          "output_type": "stream",
          "name": "stdout",
          "text": [
            "Training data shape: (3861, 14)\n",
            "Testing data shape: (9009, 14)\n",
            "Training labels shape: (3861, 16)\n",
            "Testing labels shape: (9009, 16)\n"
          ]
        }
      ]
    },
    {
      "cell_type": "code",
      "source": [
        "xtrain = torch.tensor(xtrain)\n",
        "ytrain = torch.tensor(ytrain)\n",
        "xtest = torch.tensor(xtest)\n",
        "ytest = torch.tensor(ytest)"
      ],
      "metadata": {
        "id": "SpDhWfhSxu7m"
      },
      "execution_count": 61,
      "outputs": []
    },
    {
      "cell_type": "code",
      "source": [
        "class AutoEncoder(torch.nn.Module):\n",
        "  def __init__(self, hidden_dim):\n",
        "    super().__init__()\n",
        "    self.encoder = torch.nn.Linear(14, hidden_dim)\n",
        "    self.decoder = torch.nn.Linear(hidden_dim, 16)\n",
        "    self.sigmoid = torch.nn.Sigmoid()\n",
        "\n",
        "  def forward(self, x):\n",
        "        encoded = self.encoder(x)\n",
        "        pred = self.decoder(encoded)\n",
        "        return self.sigmoid(pred)"
      ],
      "metadata": {
        "id": "8X09Nr_GxzMY"
      },
      "execution_count": 62,
      "outputs": []
    },
    {
      "cell_type": "code",
      "source": [
        "model = AutoEncoder(8)"
      ],
      "metadata": {
        "id": "ST2KJsAdyalF"
      },
      "execution_count": 63,
      "outputs": []
    },
    {
      "cell_type": "code",
      "source": [
        "criterion = torch.nn.BCELoss()\n",
        "optimizer = torch.optim.Adam(model.parameters(), lr = 0.01)\n",
        "print(model)"
      ],
      "metadata": {
        "colab": {
          "base_uri": "https://localhost:8080/"
        },
        "id": "6guCqupyyhiz",
        "outputId": "caa7c6b3-d204-46d1-965b-81c8cf19f459"
      },
      "execution_count": 64,
      "outputs": [
        {
          "output_type": "stream",
          "name": "stdout",
          "text": [
            "AutoEncoder(\n",
            "  (encoder): Linear(in_features=14, out_features=8, bias=True)\n",
            "  (decoder): Linear(in_features=8, out_features=16, bias=True)\n",
            "  (sigmoid): Sigmoid()\n",
            ")\n"
          ]
        }
      ]
    },
    {
      "cell_type": "code",
      "source": [
        "epochs = 150*2\n",
        "\n",
        "for i in range(epochs):\n",
        "  model.train()\n",
        "  optimizer.zero_grad()\n",
        "  out = model(xtrain)\n",
        "  loss = criterion(out, ytrain)\n",
        "  binary_out = (out> 0.5).float()\n",
        "  #correct = (binary_out == ytrain).float().sum()\n",
        "  #total = ytrain.numel()\n",
        "  correct = torch.all(binary_out == ytrain, dim=1).float().sum()\n",
        "  total = ytrain.size(0)\n",
        "  accuracy = correct / total * 100\n",
        "\n",
        "  loss.backward()\n",
        "  optimizer.step()\n",
        "\n",
        "  if (i + 1) % 10 == 0:\n",
        "        print(f\"Epoch [{i+1}/{epochs}], Loss: {loss.item():.4f}, Accuracy: {accuracy:.2f}\")\n",
        "\n"
      ],
      "metadata": {
        "colab": {
          "base_uri": "https://localhost:8080/"
        },
        "id": "tl8LGTJayzhi",
        "outputId": "93c506f2-6db7-4631-a6aa-37a476595b8f"
      },
      "execution_count": 65,
      "outputs": [
        {
          "output_type": "stream",
          "name": "stdout",
          "text": [
            "Epoch [10/300], Loss: 0.6890, Accuracy: 0.00\n",
            "Epoch [20/300], Loss: 0.6801, Accuracy: 0.00\n",
            "Epoch [30/300], Loss: 0.6698, Accuracy: 0.00\n",
            "Epoch [40/300], Loss: 0.6606, Accuracy: 0.00\n",
            "Epoch [50/300], Loss: 0.6538, Accuracy: 0.00\n",
            "Epoch [60/300], Loss: 0.6484, Accuracy: 0.00\n",
            "Epoch [70/300], Loss: 0.6441, Accuracy: 0.00\n",
            "Epoch [80/300], Loss: 0.6411, Accuracy: 0.00\n",
            "Epoch [90/300], Loss: 0.6390, Accuracy: 0.00\n",
            "Epoch [100/300], Loss: 0.6374, Accuracy: 0.00\n",
            "Epoch [110/300], Loss: 0.6363, Accuracy: 0.00\n",
            "Epoch [120/300], Loss: 0.6354, Accuracy: 0.00\n",
            "Epoch [130/300], Loss: 0.6346, Accuracy: 0.00\n",
            "Epoch [140/300], Loss: 0.6341, Accuracy: 0.00\n",
            "Epoch [150/300], Loss: 0.6336, Accuracy: 0.00\n",
            "Epoch [160/300], Loss: 0.6332, Accuracy: 0.00\n",
            "Epoch [170/300], Loss: 0.6329, Accuracy: 0.03\n",
            "Epoch [180/300], Loss: 0.6326, Accuracy: 0.00\n",
            "Epoch [190/300], Loss: 0.6324, Accuracy: 0.00\n",
            "Epoch [200/300], Loss: 0.6321, Accuracy: 0.00\n",
            "Epoch [210/300], Loss: 0.6320, Accuracy: 0.00\n",
            "Epoch [220/300], Loss: 0.6318, Accuracy: 0.00\n",
            "Epoch [230/300], Loss: 0.6316, Accuracy: 0.00\n",
            "Epoch [240/300], Loss: 0.6315, Accuracy: 0.00\n",
            "Epoch [250/300], Loss: 0.6314, Accuracy: 0.00\n",
            "Epoch [260/300], Loss: 0.6313, Accuracy: 0.00\n",
            "Epoch [270/300], Loss: 0.6312, Accuracy: 0.00\n",
            "Epoch [280/300], Loss: 0.6311, Accuracy: 0.00\n",
            "Epoch [290/300], Loss: 0.6310, Accuracy: 0.00\n",
            "Epoch [300/300], Loss: 0.6309, Accuracy: 0.00\n"
          ]
        }
      ]
    },
    {
      "cell_type": "code",
      "source": [
        "class AutoEncoder_v2(torch.nn.Module):\n",
        "  def __init__(self, hidden_dim):\n",
        "    super().__init__()\n",
        "    self.encoder = torch.nn.Sequential(\n",
        "        torch.nn.Linear(14, hidden_dim),\n",
        "        torch.nn.Linear(hidden_dim, hidden_dim//2)\n",
        "    )\n",
        "    self.decoder = torch.nn.Sequential(\n",
        "        torch.nn.Linear(hidden_dim//2, hidden_dim),\n",
        "        torch.nn.Linear(hidden_dim, 16),\n",
        "        torch.nn.Sigmoid()\n",
        "    )\n",
        "\n",
        "  def forward(self, x):\n",
        "    out = self.encoder(x)\n",
        "    pred = self.decoder(out)\n",
        "    return pred"
      ],
      "metadata": {
        "id": "KrarIJ_dy52V"
      },
      "execution_count": 66,
      "outputs": []
    },
    {
      "cell_type": "code",
      "source": [
        "model1 = AutoEncoder_v2(8)"
      ],
      "metadata": {
        "id": "geeMXidj9AZV"
      },
      "execution_count": 67,
      "outputs": []
    },
    {
      "cell_type": "code",
      "source": [
        "criterion = torch.nn.BCELoss()\n",
        "optimizer = torch.optim.Adam(model.parameters(), lr=0.01)"
      ],
      "metadata": {
        "id": "DZWchGHs9Eak"
      },
      "execution_count": 68,
      "outputs": []
    },
    {
      "cell_type": "code",
      "source": [
        "print(model1)"
      ],
      "metadata": {
        "colab": {
          "base_uri": "https://localhost:8080/"
        },
        "id": "E0WSr67A9oIU",
        "outputId": "ada2b87e-58e6-407b-8edd-fbba99225826"
      },
      "execution_count": 69,
      "outputs": [
        {
          "output_type": "stream",
          "name": "stdout",
          "text": [
            "AutoEncoder_v2(\n",
            "  (encoder): Sequential(\n",
            "    (0): Linear(in_features=14, out_features=8, bias=True)\n",
            "    (1): Linear(in_features=8, out_features=4, bias=True)\n",
            "  )\n",
            "  (decoder): Sequential(\n",
            "    (0): Linear(in_features=4, out_features=8, bias=True)\n",
            "    (1): Linear(in_features=8, out_features=16, bias=True)\n",
            "    (2): Sigmoid()\n",
            "  )\n",
            ")\n"
          ]
        }
      ]
    },
    {
      "cell_type": "code",
      "source": [
        "epochs = 150*2\n",
        "\n",
        "for i in range(epochs):\n",
        "  model1.train()\n",
        "  optimizer.zero_grad()\n",
        "  out = model1(xtrain)\n",
        "  loss = criterion(out, ytrain)\n",
        "  binary_out = (out> 0.5).float()\n",
        "  #correct = (binary_out == ytrain).float().sum()\n",
        "  #total = ytrain.numel()\n",
        "  correct = torch.all(binary_out == ytrain, dim=1).float().sum()\n",
        "  total = ytrain.size(0)\n",
        "  accuracy = correct / total * 100\n",
        "\n",
        "  loss.backward()\n",
        "  optimizer.step()\n",
        "\n",
        "  if (i + 1) % 10 == 0:\n",
        "        print(f\"Epoch [{i+1}/{epochs}], Loss: {loss.item():.4f}, Accuracy: {accuracy:.2f}\")\n",
        "\n"
      ],
      "metadata": {
        "colab": {
          "base_uri": "https://localhost:8080/"
        },
        "id": "B3dYpABi9pf5",
        "outputId": "6f2937db-7994-487b-acde-f49c37e1975b"
      },
      "execution_count": 70,
      "outputs": [
        {
          "output_type": "stream",
          "name": "stdout",
          "text": [
            "Epoch [10/300], Loss: 0.6991, Accuracy: 0.00\n",
            "Epoch [20/300], Loss: 0.6991, Accuracy: 0.00\n",
            "Epoch [30/300], Loss: 0.6991, Accuracy: 0.00\n",
            "Epoch [40/300], Loss: 0.6991, Accuracy: 0.00\n",
            "Epoch [50/300], Loss: 0.6991, Accuracy: 0.00\n",
            "Epoch [60/300], Loss: 0.6991, Accuracy: 0.00\n",
            "Epoch [70/300], Loss: 0.6991, Accuracy: 0.00\n",
            "Epoch [80/300], Loss: 0.6991, Accuracy: 0.00\n",
            "Epoch [90/300], Loss: 0.6991, Accuracy: 0.00\n",
            "Epoch [100/300], Loss: 0.6991, Accuracy: 0.00\n",
            "Epoch [110/300], Loss: 0.6991, Accuracy: 0.00\n",
            "Epoch [120/300], Loss: 0.6991, Accuracy: 0.00\n",
            "Epoch [130/300], Loss: 0.6991, Accuracy: 0.00\n",
            "Epoch [140/300], Loss: 0.6991, Accuracy: 0.00\n",
            "Epoch [150/300], Loss: 0.6991, Accuracy: 0.00\n",
            "Epoch [160/300], Loss: 0.6991, Accuracy: 0.00\n",
            "Epoch [170/300], Loss: 0.6991, Accuracy: 0.00\n",
            "Epoch [180/300], Loss: 0.6991, Accuracy: 0.00\n",
            "Epoch [190/300], Loss: 0.6991, Accuracy: 0.00\n",
            "Epoch [200/300], Loss: 0.6991, Accuracy: 0.00\n",
            "Epoch [210/300], Loss: 0.6991, Accuracy: 0.00\n",
            "Epoch [220/300], Loss: 0.6991, Accuracy: 0.00\n",
            "Epoch [230/300], Loss: 0.6991, Accuracy: 0.00\n",
            "Epoch [240/300], Loss: 0.6991, Accuracy: 0.00\n",
            "Epoch [250/300], Loss: 0.6991, Accuracy: 0.00\n",
            "Epoch [260/300], Loss: 0.6991, Accuracy: 0.00\n",
            "Epoch [270/300], Loss: 0.6991, Accuracy: 0.00\n",
            "Epoch [280/300], Loss: 0.6991, Accuracy: 0.00\n",
            "Epoch [290/300], Loss: 0.6991, Accuracy: 0.00\n",
            "Epoch [300/300], Loss: 0.6991, Accuracy: 0.00\n"
          ]
        }
      ]
    },
    {
      "cell_type": "code",
      "source": [
        "xtrain, xtest, ytrain, ytest = train_test_split(inputs, labels, test_size=0.7, random_state=42)\n",
        "print(\"Training data shape:\", xtrain.shape)\n",
        "print(\"Testing data shape:\", xtest.shape)\n",
        "print(\"Training labels shape:\", ytrain.shape)\n",
        "print(\"Testing labels shape:\", ytest.shape)\n",
        "\n",
        "\n",
        "xtrain = torch.tensor(xtrain)\n",
        "ytrain = torch.tensor(ytrain)\n",
        "xtest = torch.tensor(xtest)\n",
        "ytest = torch.tensor(ytest)"
      ],
      "metadata": {
        "colab": {
          "base_uri": "https://localhost:8080/"
        },
        "id": "i--uFgMOAqJC",
        "outputId": "82000c2b-4ee4-49d2-82c0-5eceac42b6ad"
      },
      "execution_count": 76,
      "outputs": [
        {
          "output_type": "stream",
          "name": "stdout",
          "text": [
            "Training data shape: (3861, 14)\n",
            "Testing data shape: (9009, 14)\n",
            "Training labels shape: (3861, 16)\n",
            "Testing labels shape: (9009, 16)\n"
          ]
        }
      ]
    },
    {
      "cell_type": "code",
      "source": [
        "\n",
        "class EncoderDecoder(torch.nn.Module):\n",
        "    def __init__(self, hidden_dim):\n",
        "        super().__init__()\n",
        "        self.encoder = torch.nn.Sequential(\n",
        "            torch.nn.Linear(14, hidden_dim),\n",
        "            torch.nn.LeakyReLU(),\n",
        "            torch.nn.Linear(hidden_dim, hidden_dim*2),\n",
        "            torch.nn.LeakyReLU(),\n",
        "            torch.nn.Linear(hidden_dim*2, hidden_dim*2),\n",
        "            torch.nn.Tanh(),\n",
        "            #torch.nn.Linear(hidden_dim, hidden_dim*2),\n",
        "            torch.nn.Dropout(inplace=False)\n",
        "            #torch.nn.\n",
        "        )\n",
        "        self.decoder = torch.nn.Sequential(\n",
        "            torch.nn.Linear(hidden_dim*2, hidden_dim*2),\n",
        "            torch.nn.LeakyReLU(),\n",
        "            #torch.nn.Tanh(),\n",
        "            torch.nn.Linear(hidden_dim*2, hidden_dim),\n",
        "            torch.nn.LeakyReLU(),\n",
        "            #torch.nn.Dropout(inplace=True),\n",
        "            torch.nn.Linear(hidden_dim, 16),\n",
        "            torch.nn.Sigmoid()\n",
        "        )\n",
        "\n",
        "    def forward(self, x):\n",
        "        encoded = self.encoder(x)\n",
        "        pred = self.decoder(encoded)\n",
        "        return pred\n",
        "\n",
        "model = EncoderDecoder(256)\n",
        "criterion = torch.nn.BCELoss()\n",
        "optimizer = torch.optim.Adam(model.parameters(), lr = 0.01)\n",
        "print(model)"
      ],
      "metadata": {
        "colab": {
          "base_uri": "https://localhost:8080/"
        },
        "id": "tnaQ7bdXAp-5",
        "outputId": "71f1ee0c-c0c8-4d90-d519-4f02b1ab45ab"
      },
      "execution_count": 77,
      "outputs": [
        {
          "output_type": "stream",
          "name": "stdout",
          "text": [
            "EncoderDecoder(\n",
            "  (encoder): Sequential(\n",
            "    (0): Linear(in_features=14, out_features=256, bias=True)\n",
            "    (1): LeakyReLU(negative_slope=0.01)\n",
            "    (2): Linear(in_features=256, out_features=512, bias=True)\n",
            "    (3): LeakyReLU(negative_slope=0.01)\n",
            "    (4): Linear(in_features=512, out_features=512, bias=True)\n",
            "    (5): Tanh()\n",
            "    (6): Dropout(p=0.5, inplace=False)\n",
            "  )\n",
            "  (decoder): Sequential(\n",
            "    (0): Linear(in_features=512, out_features=512, bias=True)\n",
            "    (1): LeakyReLU(negative_slope=0.01)\n",
            "    (2): Linear(in_features=512, out_features=256, bias=True)\n",
            "    (3): LeakyReLU(negative_slope=0.01)\n",
            "    (4): Linear(in_features=256, out_features=16, bias=True)\n",
            "    (5): Sigmoid()\n",
            "  )\n",
            ")\n"
          ]
        }
      ]
    },
    {
      "cell_type": "code",
      "source": [
        "\n",
        "epochs = 1000\n",
        "for i in range(epochs):\n",
        "  model.train()\n",
        "  optimizer.zero_grad()\n",
        "  out = model(xtrain)\n",
        "  loss = criterion(out, ytrain)\n",
        "  binary_out = (out> 0.5).float()\n",
        "  #correct = (binary_out == ytrain).float().sum()\n",
        "  #total = ytrain.numel()\n",
        "  correct = torch.all(binary_out == ytrain, dim=1).float().sum()\n",
        "  total = ytrain.size(0)\n",
        "  accuracy = correct / total * 100\n",
        "\n",
        "  loss.backward()\n",
        "  optimizer.step()\n",
        "\n",
        "  if (i + 1) % 10 == 0:\n",
        "        print(f\"Epoch [{i+1}/{epochs}], Loss: {loss.item():.4f}, Accuracy: {accuracy:.2f}\")\n",
        "\n",
        "model.eval()\n",
        "with torch.no_grad():\n",
        "  out = model(xtest)\n",
        "  binary_out_test = (out > 0.5).float()\n",
        "\n",
        "  #correct = (binary_out_test == ytest).float().sum()\n",
        "  #total = ytest.numel()\n",
        "  correct = torch.all(binary_out_test == ytest, dim=1).float().sum()\n",
        "  total = ytest.size(0)\n",
        "  accuracy = correct / total * 100\n",
        "\n",
        "  print(f\"Test Accuracy: {accuracy:.2f}%\")"
      ],
      "metadata": {
        "colab": {
          "base_uri": "https://localhost:8080/"
        },
        "id": "erMyr-34ApzZ",
        "outputId": "3c7ed29f-6501-4844-8c62-c4890366a19c"
      },
      "execution_count": 78,
      "outputs": [
        {
          "output_type": "stream",
          "name": "stdout",
          "text": [
            "Epoch [10/1000], Loss: 0.6934, Accuracy: 0.00\n",
            "Epoch [20/1000], Loss: 0.6787, Accuracy: 0.00\n",
            "Epoch [30/1000], Loss: 0.6478, Accuracy: 0.00\n",
            "Epoch [40/1000], Loss: 0.6262, Accuracy: 0.00\n",
            "Epoch [50/1000], Loss: 0.6023, Accuracy: 0.03\n",
            "Epoch [60/1000], Loss: 0.5793, Accuracy: 0.00\n",
            "Epoch [70/1000], Loss: 0.5622, Accuracy: 0.03\n",
            "Epoch [80/1000], Loss: 0.5393, Accuracy: 0.03\n",
            "Epoch [90/1000], Loss: 0.9617, Accuracy: 0.05\n",
            "Epoch [100/1000], Loss: 0.6122, Accuracy: 0.00\n",
            "Epoch [110/1000], Loss: 0.5540, Accuracy: 0.03\n",
            "Epoch [120/1000], Loss: 0.5131, Accuracy: 0.05\n",
            "Epoch [130/1000], Loss: 0.4861, Accuracy: 0.03\n",
            "Epoch [140/1000], Loss: 0.4652, Accuracy: 0.00\n",
            "Epoch [150/1000], Loss: 0.4464, Accuracy: 0.13\n",
            "Epoch [160/1000], Loss: 0.4276, Accuracy: 0.05\n",
            "Epoch [170/1000], Loss: 0.4141, Accuracy: 0.28\n",
            "Epoch [180/1000], Loss: 0.4039, Accuracy: 0.41\n",
            "Epoch [190/1000], Loss: 0.3877, Accuracy: 0.36\n",
            "Epoch [200/1000], Loss: 0.3868, Accuracy: 0.62\n",
            "Epoch [210/1000], Loss: 0.3682, Accuracy: 0.70\n",
            "Epoch [220/1000], Loss: 0.3527, Accuracy: 0.93\n",
            "Epoch [230/1000], Loss: 0.3446, Accuracy: 1.04\n",
            "Epoch [240/1000], Loss: 0.3416, Accuracy: 1.19\n",
            "Epoch [250/1000], Loss: 0.3491, Accuracy: 2.10\n",
            "Epoch [260/1000], Loss: 0.3239, Accuracy: 2.10\n",
            "Epoch [270/1000], Loss: 0.3075, Accuracy: 2.28\n",
            "Epoch [280/1000], Loss: 0.2963, Accuracy: 3.68\n",
            "Epoch [290/1000], Loss: 0.2833, Accuracy: 4.87\n",
            "Epoch [300/1000], Loss: 0.2879, Accuracy: 4.12\n",
            "Epoch [310/1000], Loss: 0.2775, Accuracy: 5.36\n",
            "Epoch [320/1000], Loss: 0.2637, Accuracy: 6.79\n",
            "Epoch [330/1000], Loss: 0.2539, Accuracy: 8.24\n",
            "Epoch [340/1000], Loss: 0.8660, Accuracy: 0.85\n",
            "Epoch [350/1000], Loss: 0.3970, Accuracy: 0.93\n",
            "Epoch [360/1000], Loss: 0.3489, Accuracy: 1.17\n",
            "Epoch [370/1000], Loss: 0.3127, Accuracy: 2.51\n",
            "Epoch [380/1000], Loss: 0.2905, Accuracy: 3.16\n",
            "Epoch [390/1000], Loss: 0.2716, Accuracy: 5.72\n",
            "Epoch [400/1000], Loss: 0.2578, Accuracy: 7.28\n",
            "Epoch [410/1000], Loss: 0.2449, Accuracy: 9.19\n",
            "Epoch [420/1000], Loss: 0.2324, Accuracy: 12.12\n",
            "Epoch [430/1000], Loss: 0.2217, Accuracy: 14.04\n",
            "Epoch [440/1000], Loss: 0.2110, Accuracy: 16.52\n",
            "Epoch [450/1000], Loss: 0.1994, Accuracy: 19.27\n",
            "Epoch [460/1000], Loss: 0.1883, Accuracy: 22.38\n",
            "Epoch [470/1000], Loss: 0.1791, Accuracy: 27.09\n",
            "Epoch [480/1000], Loss: 0.1697, Accuracy: 28.26\n",
            "Epoch [490/1000], Loss: 0.1577, Accuracy: 31.57\n",
            "Epoch [500/1000], Loss: 0.1494, Accuracy: 36.23\n",
            "Epoch [510/1000], Loss: 0.1431, Accuracy: 36.73\n",
            "Epoch [520/1000], Loss: 0.1347, Accuracy: 40.69\n",
            "Epoch [530/1000], Loss: 0.1250, Accuracy: 42.86\n",
            "Epoch [540/1000], Loss: 0.1182, Accuracy: 47.76\n",
            "Epoch [550/1000], Loss: 0.1128, Accuracy: 50.09\n",
            "Epoch [560/1000], Loss: 0.1040, Accuracy: 52.84\n",
            "Epoch [570/1000], Loss: 0.0980, Accuracy: 56.02\n",
            "Epoch [580/1000], Loss: 0.0938, Accuracy: 56.25\n",
            "Epoch [590/1000], Loss: 0.0867, Accuracy: 58.84\n",
            "Epoch [600/1000], Loss: 0.0794, Accuracy: 61.07\n",
            "Epoch [610/1000], Loss: 0.0771, Accuracy: 63.27\n",
            "Epoch [620/1000], Loss: 0.0716, Accuracy: 65.92\n",
            "Epoch [630/1000], Loss: 0.0672, Accuracy: 68.69\n",
            "Epoch [640/1000], Loss: 0.0620, Accuracy: 69.36\n",
            "Epoch [650/1000], Loss: 0.0632, Accuracy: 70.68\n",
            "Epoch [660/1000], Loss: 0.0634, Accuracy: 70.68\n",
            "Epoch [670/1000], Loss: 0.0548, Accuracy: 71.98\n",
            "Epoch [680/1000], Loss: 0.0529, Accuracy: 74.49\n",
            "Epoch [690/1000], Loss: 0.0480, Accuracy: 76.04\n",
            "Epoch [700/1000], Loss: 0.0473, Accuracy: 77.18\n",
            "Epoch [710/1000], Loss: 0.0458, Accuracy: 78.35\n",
            "Epoch [720/1000], Loss: 0.0448, Accuracy: 78.53\n",
            "Epoch [730/1000], Loss: 0.0417, Accuracy: 79.75\n",
            "Epoch [740/1000], Loss: 0.0419, Accuracy: 79.59\n",
            "Epoch [750/1000], Loss: 0.0415, Accuracy: 79.67\n",
            "Epoch [760/1000], Loss: 0.0355, Accuracy: 82.13\n",
            "Epoch [770/1000], Loss: 0.0345, Accuracy: 82.49\n",
            "Epoch [780/1000], Loss: 0.0362, Accuracy: 83.35\n",
            "Epoch [790/1000], Loss: 0.0348, Accuracy: 83.55\n",
            "Epoch [800/1000], Loss: 0.0329, Accuracy: 84.10\n",
            "Epoch [810/1000], Loss: 0.0316, Accuracy: 84.23\n",
            "Epoch [820/1000], Loss: 0.0299, Accuracy: 85.39\n",
            "Epoch [830/1000], Loss: 0.0302, Accuracy: 85.19\n",
            "Epoch [840/1000], Loss: 0.0292, Accuracy: 85.16\n",
            "Epoch [850/1000], Loss: 0.0290, Accuracy: 85.50\n",
            "Epoch [860/1000], Loss: 0.0312, Accuracy: 84.46\n",
            "Epoch [870/1000], Loss: 0.0320, Accuracy: 85.31\n",
            "Epoch [880/1000], Loss: 0.0303, Accuracy: 85.73\n",
            "Epoch [890/1000], Loss: 0.0313, Accuracy: 85.70\n",
            "Epoch [900/1000], Loss: 0.0271, Accuracy: 86.87\n",
            "Epoch [910/1000], Loss: 0.0251, Accuracy: 87.67\n",
            "Epoch [920/1000], Loss: 0.0251, Accuracy: 87.39\n",
            "Epoch [930/1000], Loss: 0.0250, Accuracy: 88.50\n",
            "Epoch [940/1000], Loss: 0.0244, Accuracy: 87.49\n",
            "Epoch [950/1000], Loss: 0.0272, Accuracy: 87.65\n",
            "Epoch [960/1000], Loss: 0.0247, Accuracy: 87.88\n",
            "Epoch [970/1000], Loss: 0.0265, Accuracy: 87.44\n",
            "Epoch [980/1000], Loss: 0.0256, Accuracy: 88.01\n",
            "Epoch [990/1000], Loss: 0.0251, Accuracy: 87.88\n",
            "Epoch [1000/1000], Loss: 0.0247, Accuracy: 88.66\n",
            "Test Accuracy: 0.50%\n"
          ]
        }
      ]
    },
    {
      "cell_type": "code",
      "source": [],
      "metadata": {
        "id": "qeQanOAd-LCp"
      },
      "execution_count": 78,
      "outputs": []
    },
    {
      "cell_type": "code",
      "source": [
        "import torch\n",
        "import numpy as np\n",
        "import itertools\n",
        "from sklearn.model_selection import train_test_split\n",
        "N = 16\n",
        "K = 8\n",
        "subsets = list(itertools.combinations(range(N), K))\n",
        "labels = []\n",
        "for i in subsets:\n",
        "  labels.append([1 if num in i else 0 for num in range(N)])\n",
        "inputs = []\n",
        "for i in range(len(subsets)):\n",
        "   inputs.append([int(bit) for bit in format(i, '014b')])\n",
        "\n",
        "inputs = np.array(inputs, dtype=np.float32)\n",
        "labels = np.array(labels, dtype=np.float32)\n",
        "\n",
        "xtrain, xtest, ytrain, ytest = train_test_split(inputs, labels, test_size=0.7, random_state=42)\n",
        "print(\"Training data shape:\", xtrain.shape)\n",
        "print(\"Testing data shape:\", xtest.shape)\n",
        "print(\"Training labels shape:\", ytrain.shape)\n",
        "print(\"Testing labels shape:\", ytest.shape)\n",
        "\n",
        "\n",
        "xtrain = torch.tensor(xtrain)\n",
        "ytrain = torch.tensor(ytrain)\n",
        "xtest = torch.tensor(xtest)\n",
        "ytest = torch.tensor(ytest)\n",
        "\n",
        "class EncoderDecoder(torch.nn.Module):\n",
        "    def __init__(self, hidden_dim):\n",
        "        super().__init__()\n",
        "        self.encoder = torch.nn.Sequential(\n",
        "            torch.nn.Linear(14, hidden_dim),\n",
        "            torch.nn.LeakyReLU(),\n",
        "            torch.nn.Linear(hidden_dim, hidden_dim*2),\n",
        "            torch.nn.LeakyReLU(),\n",
        "            torch.nn.Linear(hidden_dim*2, hidden_dim*2),\n",
        "            torch.nn.Tanh(),\n",
        "            #torch.nn.Linear(hidden_dim, hidden_dim*2),\n",
        "            torch.nn.Dropout(inplace=False)\n",
        "            #torch.nn.\n",
        "        )\n",
        "        self.decoder = torch.nn.Sequential(\n",
        "            torch.nn.Linear(hidden_dim*2, hidden_dim*2),\n",
        "            torch.nn.LeakyReLU(),\n",
        "            #torch.nn.Tanh(),\n",
        "            torch.nn.Linear(hidden_dim*2, hidden_dim),\n",
        "            torch.nn.LeakyReLU(),\n",
        "            #torch.nn.Dropout(inplace=True),\n",
        "            torch.nn.Linear(hidden_dim, 16),\n",
        "            torch.nn.Sigmoid()\n",
        "        )\n",
        "\n",
        "    def forward(self, x):\n",
        "        encoded = self.encoder(x)\n",
        "        pred = self.decoder(encoded)\n",
        "        return pred\n",
        "\n",
        "model = EncoderDecoder(256)\n",
        "criterion = torch.nn.BCELoss()\n",
        "optimizer = torch.optim.Adam(model.parameters(), lr = 0.01)\n",
        "print(model)\n",
        "\n",
        "epochs = 1000\n",
        "for i in range(epochs):\n",
        "  model.train()\n",
        "  optimizer.zero_grad()\n",
        "  out = model(xtrain)\n",
        "  loss = criterion(out, ytrain)\n",
        "  binary_out = (out> 0.5).float()\n",
        "  #correct = (binary_out == ytrain).float().sum()\n",
        "  #total = ytrain.numel()\n",
        "  correct = torch.all(binary_out == ytrain, dim=1).float().sum()\n",
        "  total = ytrain.size(0)\n",
        "  accuracy = correct / total * 100\n",
        "\n",
        "  loss.backward()\n",
        "  optimizer.step()\n",
        "\n",
        "  if (i + 1) % 10 == 0:\n",
        "        print(f\"Epoch [{i+1}/{epochs}], Loss: {loss.item():.4f}, Accuracy: {accuracy:.2f}\")\n",
        "\n",
        "model.eval()\n",
        "with torch.no_grad():\n",
        "  out = model(xtest)\n",
        "  binary_out_test = (out > 0.5).float()\n",
        "\n",
        "  #correct = (binary_out_test == ytest).float().sum()\n",
        "  #total = ytest.numel()\n",
        "  correct = torch.all(binary_out_test == ytest, dim=1).float().sum()\n",
        "  total = ytest.size(0)\n",
        "  accuracy = correct / total * 100\n",
        "\n",
        "  print(f\"Test Accuracy: {accuracy:.2f}%\")\n"
      ],
      "metadata": {
        "id": "EV6NgdpL_QRy"
      },
      "execution_count": null,
      "outputs": []
    }
  ]
}