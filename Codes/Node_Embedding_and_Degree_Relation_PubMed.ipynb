{
  "nbformat": 4,
  "nbformat_minor": 0,
  "metadata": {
    "colab": {
      "provenance": []
    },
    "kernelspec": {
      "name": "python3",
      "display_name": "Python 3"
    },
    "language_info": {
      "name": "python"
    }
  },
  "cells": [
    {
      "cell_type": "code",
      "execution_count": 1,
      "metadata": {
        "colab": {
          "base_uri": "https://localhost:8080/"
        },
        "id": "AqKJfFoCJF9t",
        "outputId": "cc601b94-7809-4bcd-cdf2-449bdc250ae4"
      },
      "outputs": [
        {
          "output_type": "stream",
          "name": "stdout",
          "text": [
            "pytorch version 2.4.0+cu121\n"
          ]
        }
      ],
      "source": [
        "import os\n",
        "import torch\n",
        "print(\"pytorch version {}\".format(torch.__version__))"
      ]
    },
    {
      "cell_type": "code",
      "source": [
        "if 'IS_GRADESCOPE_ENV' not in os.environ:\n",
        "  !pip install torch==2.4.0"
      ],
      "metadata": {
        "id": "EDF5gfFQJWa4"
      },
      "execution_count": null,
      "outputs": []
    },
    {
      "cell_type": "code",
      "source": [
        "# Install torch geometric\n",
        "if 'IS_GRADESCOPE_ENV' not in os.environ:\n",
        "  torch_version = str(torch.__version__)\n",
        "  scatter_src = f\"https://pytorch-geometric.com/whl/torch-{torch_version}.html\"\n",
        "  sparse_src = f\"https://pytorch-geometric.com/whl/torch-{torch_version}.html\"\n",
        "  !pip install torch-scatter -f $scatter_src\n",
        "  !pip install torch-sparse -f $sparse_src\n",
        "  !pip install torch-geometric\n",
        "  !pip install ogb"
      ],
      "metadata": {
        "id": "sXoo9djuJiJa"
      },
      "execution_count": null,
      "outputs": []
    },
    {
      "cell_type": "code",
      "source": [
        "import torch\n",
        "import torch_geometric\n",
        "from torch_geometric.datasets import Planetoid\n",
        "import numpy as np"
      ],
      "metadata": {
        "id": "leetlp6sKDQO"
      },
      "execution_count": 5,
      "outputs": []
    },
    {
      "cell_type": "code",
      "source": [
        "dataset = Planetoid(root=\"/dataset\", name=\"PubMed\")"
      ],
      "metadata": {
        "colab": {
          "base_uri": "https://localhost:8080/"
        },
        "id": "YeO6XmXvKbfJ",
        "outputId": "e70ba42a-9d48-43f8-e46e-9b2e8050d8e8"
      },
      "execution_count": 6,
      "outputs": [
        {
          "output_type": "stream",
          "name": "stderr",
          "text": [
            "Downloading https://github.com/kimiyoung/planetoid/raw/master/data/ind.pubmed.x\n",
            "Downloading https://github.com/kimiyoung/planetoid/raw/master/data/ind.pubmed.tx\n",
            "Downloading https://github.com/kimiyoung/planetoid/raw/master/data/ind.pubmed.allx\n",
            "Downloading https://github.com/kimiyoung/planetoid/raw/master/data/ind.pubmed.y\n",
            "Downloading https://github.com/kimiyoung/planetoid/raw/master/data/ind.pubmed.ty\n",
            "Downloading https://github.com/kimiyoung/planetoid/raw/master/data/ind.pubmed.ally\n",
            "Downloading https://github.com/kimiyoung/planetoid/raw/master/data/ind.pubmed.graph\n",
            "Downloading https://github.com/kimiyoung/planetoid/raw/master/data/ind.pubmed.test.index\n",
            "Processing...\n",
            "Done!\n"
          ]
        }
      ]
    },
    {
      "cell_type": "code",
      "source": [
        "data = dataset[0]\n",
        "data"
      ],
      "metadata": {
        "colab": {
          "base_uri": "https://localhost:8080/"
        },
        "id": "Z39vMlsyKggg",
        "outputId": "26dff173-be67-46fe-af99-e223888e53a8"
      },
      "execution_count": 7,
      "outputs": [
        {
          "output_type": "execute_result",
          "data": {
            "text/plain": [
              "Data(x=[19717, 500], edge_index=[2, 88648], y=[19717], train_mask=[19717], val_mask=[19717], test_mask=[19717])"
            ]
          },
          "metadata": {},
          "execution_count": 7
        }
      ]
    },
    {
      "cell_type": "code",
      "source": [
        "src_nodes = data.edge_index[0]\n",
        "dest_nodes = data.edge_index[1]"
      ],
      "metadata": {
        "id": "bHe0e4odKkJY"
      },
      "execution_count": 8,
      "outputs": []
    },
    {
      "cell_type": "code",
      "source": [
        "# To compute Node of degree 1\n",
        "Degree = torch.bincount(src_nodes, minlength= len(data.x)).tolist()\n",
        "set(Degree)\n",
        "#node_degree_1 = (Degree == 1).nonzero(as_tuple=True)[0]"
      ],
      "metadata": {
        "colab": {
          "base_uri": "https://localhost:8080/"
        },
        "id": "J-xHm0ZFK5_0",
        "outputId": "8cc2665f-f1c0-4716-c0bc-e2ca14bf69ff"
      },
      "execution_count": 9,
      "outputs": [
        {
          "output_type": "execute_result",
          "data": {
            "text/plain": [
              "{1,\n",
              " 2,\n",
              " 3,\n",
              " 4,\n",
              " 5,\n",
              " 6,\n",
              " 7,\n",
              " 8,\n",
              " 9,\n",
              " 10,\n",
              " 11,\n",
              " 12,\n",
              " 13,\n",
              " 14,\n",
              " 15,\n",
              " 16,\n",
              " 17,\n",
              " 18,\n",
              " 19,\n",
              " 20,\n",
              " 21,\n",
              " 22,\n",
              " 23,\n",
              " 24,\n",
              " 25,\n",
              " 26,\n",
              " 27,\n",
              " 28,\n",
              " 29,\n",
              " 30,\n",
              " 31,\n",
              " 32,\n",
              " 33,\n",
              " 34,\n",
              " 35,\n",
              " 36,\n",
              " 37,\n",
              " 38,\n",
              " 39,\n",
              " 40,\n",
              " 41,\n",
              " 42,\n",
              " 43,\n",
              " 44,\n",
              " 45,\n",
              " 46,\n",
              " 47,\n",
              " 48,\n",
              " 49,\n",
              " 50,\n",
              " 51,\n",
              " 52,\n",
              " 53,\n",
              " 54,\n",
              " 55,\n",
              " 56,\n",
              " 57,\n",
              " 58,\n",
              " 59,\n",
              " 60,\n",
              " 61,\n",
              " 62,\n",
              " 63,\n",
              " 64,\n",
              " 66,\n",
              " 67,\n",
              " 68,\n",
              " 69,\n",
              " 72,\n",
              " 73,\n",
              " 74,\n",
              " 75,\n",
              " 77,\n",
              " 80,\n",
              " 83,\n",
              " 88,\n",
              " 121,\n",
              " 125,\n",
              " 130,\n",
              " 131,\n",
              " 154,\n",
              " 171}"
            ]
          },
          "metadata": {},
          "execution_count": 9
        }
      ]
    },
    {
      "cell_type": "code",
      "source": [
        "def SubGraph(d): # d -> nodes with degree d to be removed from the original graph\n",
        "  degree = torch.bincount(src_nodes, minlength=len(data.x)) # counts how many times each value occurs.\n",
        "  node_degree_d = (degree == d).nonzero(as_tuple=True)[0]\n",
        "  print(\"Number of Nodes with degree {}:\".format(d), len(node_degree_d))\n",
        "  # To create a mask\n",
        "  mask = torch.ones(len(data.x), dtype=bool)\n",
        "  mask[node_degree_d] = False\n",
        "\n",
        "  # Subgraph creation\n",
        "  subgraph = data.clone()\n",
        "\n",
        "  subgraph.x = data.x[mask]\n",
        "  subgraph.y = data.y[mask]\n",
        "  subgraph.train_mask = data.train_mask[mask]\n",
        "  subgraph.test_mask = data.test_mask[mask]\n",
        "  subgraph.val_mask = data.val_mask[mask]\n",
        "\n",
        "  subgraph.edge_index, _ = torch_geometric.utils.subgraph(mask, data.edge_index, relabel_nodes=True)\n",
        "\n",
        "  return subgraph, mask"
      ],
      "metadata": {
        "id": "WLoOiLAqK-cL"
      },
      "execution_count": 10,
      "outputs": []
    },
    {
      "cell_type": "code",
      "source": [
        "from torch_geometric.nn import SAGEConv\n",
        "import torch.nn.functional as F"
      ],
      "metadata": {
        "id": "bwltjOF-LcXs"
      },
      "execution_count": 11,
      "outputs": []
    },
    {
      "cell_type": "code",
      "source": [
        "class GraphSage(torch.nn.Module):\n",
        "  def __init__(self, hidden_dim, input_dim = dataset.num_features, output_dim = dataset.num_classes):\n",
        "    super().__init__()\n",
        "\n",
        "    self.conv1 = SAGEConv(input_dim, hidden_dim)\n",
        "    self.conv2 = SAGEConv(hidden_dim, output_dim)\n",
        "\n",
        "  def forward(self, x: torch.tensor, edge_list: torch.tensor):\n",
        "    x = self.conv1(x, edge_list)\n",
        "    x = F.relu(x)\n",
        "    x = F.dropout(x, p=0.15)\n",
        "\n",
        "    x = self.conv2(x, edge_list)\n",
        "    return x\n"
      ],
      "metadata": {
        "id": "JwfxYv4XPGSn"
      },
      "execution_count": 12,
      "outputs": []
    },
    {
      "cell_type": "code",
      "source": [
        "model =  GraphSage(128)\n",
        "model"
      ],
      "metadata": {
        "colab": {
          "base_uri": "https://localhost:8080/"
        },
        "id": "8xl_z1PAP0WT",
        "outputId": "9e2811a7-e682-4c84-867d-6b8cb2a68398"
      },
      "execution_count": 63,
      "outputs": [
        {
          "output_type": "execute_result",
          "data": {
            "text/plain": [
              "GraphSage(\n",
              "  (conv1): SAGEConv(500, 128, aggr=mean)\n",
              "  (conv2): SAGEConv(128, 3, aggr=mean)\n",
              ")"
            ]
          },
          "metadata": {},
          "execution_count": 63
        }
      ]
    },
    {
      "cell_type": "code",
      "source": [
        "optimizer = torch.optim.Adam(model.parameters(), lr = 0.05, weight_decay=25e-5)\n",
        "criterion = torch.nn.CrossEntropyLoss()"
      ],
      "metadata": {
        "id": "-3OujLUASMsI"
      },
      "execution_count": 64,
      "outputs": []
    },
    {
      "cell_type": "code",
      "source": [
        "def train():\n",
        "  model.train()\n",
        "  optimizer.zero_grad()\n",
        "  output = model(subgraph.x, subgraph.edge_index)\n",
        "  loss = criterion(output[subgraph.train_mask], subgraph.y[subgraph.train_mask])\n",
        "\n",
        "  loss.backward()\n",
        "  optimizer.step()\n",
        "  return loss.item()\n"
      ],
      "metadata": {
        "id": "UUqNpXXNScf0"
      },
      "execution_count": 65,
      "outputs": []
    },
    {
      "cell_type": "code",
      "source": [
        "def test():\n",
        "  model.eval()\n",
        "  pred =model(subgraph.x, subgraph.edge_index)\n",
        "  pred = pred.argmax(dim=1)\n",
        "  train_acc = (pred[subgraph.train_mask] == subgraph.y[subgraph.train_mask]).sum() / subgraph.train_mask.sum()\n",
        "  val_acc = (pred[subgraph.val_mask] == subgraph.y[subgraph.val_mask]).sum() / subgraph.val_mask.sum()\n",
        "  test_acc = (pred[subgraph.test_mask] == subgraph.y[subgraph.test_mask]).sum() / subgraph.test_mask.sum()\n",
        "\n",
        "  return train_acc, val_acc, test_acc\n"
      ],
      "metadata": {
        "id": "F0v-r7fUS9DQ"
      },
      "execution_count": 66,
      "outputs": []
    },
    {
      "cell_type": "code",
      "source": [
        "subgraph, mask = SubGraph(20)\n",
        "subgraph"
      ],
      "metadata": {
        "colab": {
          "base_uri": "https://localhost:8080/"
        },
        "id": "lKmqoZ0kTBYx",
        "outputId": "324c83ce-02aa-4543-ddf1-c74b39afe73e"
      },
      "execution_count": 70,
      "outputs": [
        {
          "output_type": "stream",
          "name": "stdout",
          "text": [
            "Number of Nodes with degree 20: 74\n"
          ]
        },
        {
          "output_type": "execute_result",
          "data": {
            "text/plain": [
              "Data(x=[19643, 500], edge_index=[2, 85704], y=[19643], train_mask=[19643], val_mask=[19643], test_mask=[19643])"
            ]
          },
          "metadata": {},
          "execution_count": 70
        }
      ]
    },
    {
      "cell_type": "code",
      "source": [
        "\"\"\"\n",
        "%matplotlib inline\n",
        "import matplotlib.pyplot as plt\n",
        "from sklearn.manifold import TSNE\n",
        "\n",
        "def visualize(h, color):\n",
        "    z = TSNE(n_components=2).fit_transform(h.detach().cpu().numpy())\n",
        "\n",
        "    plt.figure(figsize=(8,8))\n",
        "    plt.xticks([])\n",
        "    plt.yticks([])\n",
        "\n",
        "    plt.scatter(z[:, 0], z[:, 1], s=70, c=color, cmap=\"Set2\")\n",
        "    plt.show()\n",
        "\n",
        "model.eval()\n",
        "\n",
        "x = model(subgraph.x, subgraph.edge_index)\n",
        "visualize(x, color=subgraph.y)\n",
        "\"\"\""
      ],
      "metadata": {
        "id": "Ln83vxVyTIzX"
      },
      "execution_count": null,
      "outputs": []
    },
    {
      "cell_type": "code",
      "source": [
        "from google.colab import drive\n",
        "drive.mount('/content/drive')"
      ],
      "metadata": {
        "colab": {
          "base_uri": "https://localhost:8080/"
        },
        "id": "yii8TEfMTK1J",
        "outputId": "e284f6ce-4ead-404f-cc2c-1c6e9ac8e74f"
      },
      "execution_count": 18,
      "outputs": [
        {
          "output_type": "stream",
          "name": "stdout",
          "text": [
            "Mounted at /content/drive\n"
          ]
        }
      ]
    },
    {
      "cell_type": "code",
      "source": [
        "def compute(d):\n",
        "\n",
        "  path = '/content/drive/MyDrive/Colab Notebooks/degree{}.pth'.format(d)\n",
        "\n",
        "  best_test_acc = 0.0\n",
        "  for i in range(50):\n",
        "    loss = train()\n",
        "    train_acc, val_acc, test_acc = test()\n",
        "\n",
        "    if test_acc > best_test_acc:\n",
        "      best_test_acc = test_acc\n",
        "      torch.save(model.state_dict(), path)\n",
        "      print(f'Best model saved with accuracy: {best_test_acc:.2f}%')\n",
        "      print()\n",
        "    print(f\"Epoch: {i:03d}, Loss: {loss:.4f}, Train Acc: {train_acc:.4f}, Val Acc: {val_acc:.4f}, Test Acc: {test_acc:.4f}\")\n",
        "  print()\n",
        "  print()\n",
        "  model.load_state_dict(torch.load(path))\n",
        "  model.eval()\n",
        "\n",
        "  out = model(data.x, data.edge_index)\n",
        "  O = out[mask == False].argmax(dim=1)\n",
        "  count = 0\n",
        "  for i in data.y[mask == False] == O:\n",
        "    if i == True:\n",
        "      count+=1\n",
        "  accuracy = count/ len(data.y[mask == False])\n",
        "  print(f'Accuracy on degree {d} nodes: {accuracy:.4f}')"
      ],
      "metadata": {
        "id": "GlTvpOFxZMjK"
      },
      "execution_count": 71,
      "outputs": []
    },
    {
      "cell_type": "code",
      "source": [
        "compute(20)"
      ],
      "metadata": {
        "colab": {
          "base_uri": "https://localhost:8080/"
        },
        "id": "GnU7xOJ3-xyN",
        "outputId": "1e3b0ab3-99df-40d4-f54d-7582460f4e16"
      },
      "execution_count": 72,
      "outputs": [
        {
          "output_type": "stream",
          "name": "stdout",
          "text": [
            "Best model saved with accuracy: 0.75%\n",
            "\n",
            "Epoch: 000, Loss: 0.0138, Train Acc: 1.0000, Val Acc: 0.7711, Test Acc: 0.7503\n",
            "Epoch: 001, Loss: 0.0126, Train Acc: 1.0000, Val Acc: 0.7791, Test Acc: 0.7503\n",
            "Epoch: 002, Loss: 0.0152, Train Acc: 1.0000, Val Acc: 0.7892, Test Acc: 0.7492\n",
            "Epoch: 003, Loss: 0.0191, Train Acc: 1.0000, Val Acc: 0.7570, Test Acc: 0.7392\n",
            "Epoch: 004, Loss: 0.0149, Train Acc: 1.0000, Val Acc: 0.7731, Test Acc: 0.7341\n",
            "Epoch: 005, Loss: 0.0199, Train Acc: 1.0000, Val Acc: 0.7831, Test Acc: 0.7351\n",
            "Epoch: 006, Loss: 0.0059, Train Acc: 1.0000, Val Acc: 0.7731, Test Acc: 0.7271\n",
            "Epoch: 007, Loss: 0.0081, Train Acc: 1.0000, Val Acc: 0.7691, Test Acc: 0.7412\n",
            "Epoch: 008, Loss: 0.0052, Train Acc: 1.0000, Val Acc: 0.7811, Test Acc: 0.7362\n",
            "Epoch: 009, Loss: 0.0025, Train Acc: 1.0000, Val Acc: 0.7510, Test Acc: 0.7221\n",
            "Epoch: 010, Loss: 0.0054, Train Acc: 1.0000, Val Acc: 0.7530, Test Acc: 0.7140\n",
            "Epoch: 011, Loss: 0.0032, Train Acc: 1.0000, Val Acc: 0.7631, Test Acc: 0.7231\n",
            "Epoch: 012, Loss: 0.0031, Train Acc: 1.0000, Val Acc: 0.7570, Test Acc: 0.7372\n",
            "Best model saved with accuracy: 0.75%\n",
            "\n",
            "Epoch: 013, Loss: 0.0026, Train Acc: 1.0000, Val Acc: 0.7590, Test Acc: 0.7533\n",
            "Best model saved with accuracy: 0.76%\n",
            "\n",
            "Epoch: 014, Loss: 0.0028, Train Acc: 1.0000, Val Acc: 0.7530, Test Acc: 0.7603\n",
            "Epoch: 015, Loss: 0.0026, Train Acc: 1.0000, Val Acc: 0.7590, Test Acc: 0.7472\n",
            "Epoch: 016, Loss: 0.0056, Train Acc: 1.0000, Val Acc: 0.7610, Test Acc: 0.7553\n",
            "Epoch: 017, Loss: 0.0045, Train Acc: 1.0000, Val Acc: 0.7410, Test Acc: 0.7160\n",
            "Epoch: 018, Loss: 0.0053, Train Acc: 1.0000, Val Acc: 0.7269, Test Acc: 0.7331\n",
            "Epoch: 019, Loss: 0.0053, Train Acc: 1.0000, Val Acc: 0.7590, Test Acc: 0.7291\n",
            "Epoch: 020, Loss: 0.0043, Train Acc: 1.0000, Val Acc: 0.7671, Test Acc: 0.7422\n",
            "Epoch: 021, Loss: 0.0053, Train Acc: 1.0000, Val Acc: 0.7671, Test Acc: 0.7311\n",
            "Epoch: 022, Loss: 0.0047, Train Acc: 1.0000, Val Acc: 0.7631, Test Acc: 0.7331\n",
            "Epoch: 023, Loss: 0.0058, Train Acc: 1.0000, Val Acc: 0.7831, Test Acc: 0.7432\n",
            "Epoch: 024, Loss: 0.0071, Train Acc: 1.0000, Val Acc: 0.7671, Test Acc: 0.7392\n",
            "Best model saved with accuracy: 0.76%\n",
            "\n",
            "Epoch: 025, Loss: 0.0053, Train Acc: 1.0000, Val Acc: 0.7651, Test Acc: 0.7644\n",
            "Epoch: 026, Loss: 0.0039, Train Acc: 1.0000, Val Acc: 0.7731, Test Acc: 0.7603\n",
            "Epoch: 027, Loss: 0.0063, Train Acc: 1.0000, Val Acc: 0.7851, Test Acc: 0.7573\n",
            "Epoch: 028, Loss: 0.0065, Train Acc: 1.0000, Val Acc: 0.7811, Test Acc: 0.7583\n",
            "Epoch: 029, Loss: 0.0072, Train Acc: 1.0000, Val Acc: 0.7771, Test Acc: 0.7462\n",
            "Epoch: 030, Loss: 0.0065, Train Acc: 1.0000, Val Acc: 0.7791, Test Acc: 0.7633\n",
            "Epoch: 031, Loss: 0.0053, Train Acc: 1.0000, Val Acc: 0.7791, Test Acc: 0.7613\n",
            "Epoch: 032, Loss: 0.0050, Train Acc: 1.0000, Val Acc: 0.7771, Test Acc: 0.7533\n",
            "Epoch: 033, Loss: 0.0107, Train Acc: 1.0000, Val Acc: 0.7671, Test Acc: 0.7241\n",
            "Epoch: 034, Loss: 0.0049, Train Acc: 1.0000, Val Acc: 0.7189, Test Acc: 0.6959\n",
            "Epoch: 035, Loss: 0.0065, Train Acc: 1.0000, Val Acc: 0.7349, Test Acc: 0.7090\n",
            "Epoch: 036, Loss: 0.0061, Train Acc: 1.0000, Val Acc: 0.7570, Test Acc: 0.7402\n",
            "Epoch: 037, Loss: 0.0067, Train Acc: 1.0000, Val Acc: 0.7510, Test Acc: 0.7442\n",
            "Epoch: 038, Loss: 0.0047, Train Acc: 1.0000, Val Acc: 0.7510, Test Acc: 0.7432\n",
            "Epoch: 039, Loss: 0.0061, Train Acc: 1.0000, Val Acc: 0.7631, Test Acc: 0.7351\n",
            "Epoch: 040, Loss: 0.0038, Train Acc: 1.0000, Val Acc: 0.7470, Test Acc: 0.7150\n",
            "Epoch: 041, Loss: 0.0043, Train Acc: 1.0000, Val Acc: 0.7289, Test Acc: 0.7200\n",
            "Epoch: 042, Loss: 0.0036, Train Acc: 1.0000, Val Acc: 0.7289, Test Acc: 0.7382\n",
            "Epoch: 043, Loss: 0.0036, Train Acc: 1.0000, Val Acc: 0.7771, Test Acc: 0.7492\n",
            "Epoch: 044, Loss: 0.0033, Train Acc: 1.0000, Val Acc: 0.7892, Test Acc: 0.7482\n",
            "Epoch: 045, Loss: 0.0044, Train Acc: 1.0000, Val Acc: 0.7851, Test Acc: 0.7603\n",
            "Epoch: 046, Loss: 0.0036, Train Acc: 1.0000, Val Acc: 0.7771, Test Acc: 0.7442\n",
            "Epoch: 047, Loss: 0.0056, Train Acc: 1.0000, Val Acc: 0.7791, Test Acc: 0.7603\n",
            "Best model saved with accuracy: 0.79%\n",
            "\n",
            "Epoch: 048, Loss: 0.0053, Train Acc: 1.0000, Val Acc: 0.7811, Test Acc: 0.7895\n",
            "Epoch: 049, Loss: 0.0043, Train Acc: 1.0000, Val Acc: 0.7871, Test Acc: 0.7704\n",
            "\n",
            "\n"
          ]
        },
        {
          "output_type": "stream",
          "name": "stderr",
          "text": [
            "<ipython-input-71-69a9f7f66709>:18: FutureWarning: You are using `torch.load` with `weights_only=False` (the current default value), which uses the default pickle module implicitly. It is possible to construct malicious pickle data which will execute arbitrary code during unpickling (See https://github.com/pytorch/pytorch/blob/main/SECURITY.md#untrusted-models for more details). In a future release, the default value for `weights_only` will be flipped to `True`. This limits the functions that could be executed during unpickling. Arbitrary objects will no longer be allowed to be loaded via this mode unless they are explicitly allowlisted by the user via `torch.serialization.add_safe_globals`. We recommend you start setting `weights_only=True` for any use case where you don't have full control of the loaded file. Please open an issue on GitHub for any issues related to this experimental feature.\n",
            "  model.load_state_dict(torch.load(path))\n"
          ]
        },
        {
          "output_type": "stream",
          "name": "stdout",
          "text": [
            "Accuracy on degree 20 nodes: 0.8649\n"
          ]
        }
      ]
    },
    {
      "cell_type": "code",
      "source": [
        "import matplotlib.pyplot as plt\n",
        "\n",
        "deg = [1, 2, 3, 4, 5, 10, 15, 20]\n",
        "acc = [67.46, 74.29, 77.40, 79.98, 81.15, 76.23, 80.84, 86.49]\n",
        "\n",
        "plt.plot(deg, acc, marker='o', color='blue', linestyle='-')\n",
        "plt.xlabel(\"Degree\")\n",
        "plt.ylabel(\"Accuracy (%)\")\n",
        "plt.title(\"PubMed Dataset\")\n",
        "plt.grid(True)\n",
        "plt.show()\n"
      ],
      "metadata": {
        "colab": {
          "base_uri": "https://localhost:8080/",
          "height": 472
        },
        "id": "Wmqd118pBVQH",
        "outputId": "a36f0ecb-1981-4619-8ad5-711a990a2d2d"
      },
      "execution_count": 76,
      "outputs": [
        {
          "output_type": "display_data",
          "data": {
            "text/plain": [
              "<Figure size 640x480 with 1 Axes>"
            ],
            "image/png": "[encoded data removed]"
          },
          "metadata": {}
        }
      ]
    },
    {
      "cell_type": "code",
      "source": [],
      "metadata": {
        "id": "CWTeQXdVBVJC"
      },
      "execution_count": null,
      "outputs": []
    },
    {
      "cell_type": "code",
      "source": [],
      "metadata": {
        "id": "vxtA30PlBVCJ"
      },
      "execution_count": null,
      "outputs": []
    },
    {
      "cell_type": "code",
      "source": [],
      "metadata": {
        "id": "ZSQDjSlfBU-g"
      },
      "execution_count": null,
      "outputs": []
    },
    {
      "cell_type": "code",
      "source": [
        ""
      ],
      "metadata": {
        "id": "ezELPx5TYdKW"
      },
      "execution_count": null,
      "outputs": []
    },
    {
      "cell_type": "code",
      "source": [],
      "metadata": {
        "id": "CdYOcM5CYdHH"
      },
      "execution_count": null,
      "outputs": []
    },
    {
      "cell_type": "code",
      "source": [],
      "metadata": {
        "id": "vhWXBM1uYdEz"
      },
      "execution_count": null,
      "outputs": []
    },
    {
      "cell_type": "code",
      "source": [],
      "metadata": {
        "id": "pD7CstA0YdCO"
      },
      "execution_count": null,
      "outputs": []
    },
    {
      "cell_type": "code",
      "source": [],
      "metadata": {
        "id": "uf53G2J5Yc_t"
      },
      "execution_count": null,
      "outputs": []
    },
    {
      "cell_type": "code",
      "source": [],
      "metadata": {
        "id": "rPbeOAPSYc9E"
      },
      "execution_count": null,
      "outputs": []
    },
    {
      "cell_type": "code",
      "source": [],
      "metadata": {
        "id": "cueXhHUQYc6p"
      },
      "execution_count": null,
      "outputs": []
    },
    {
      "cell_type": "code",
      "source": [],
      "metadata": {
        "id": "Jd6iQPwaYc4Q"
      },
      "execution_count": null,
      "outputs": []
    },
    {
      "cell_type": "code",
      "source": [],
      "metadata": {
        "id": "2TXgtM8oYc10"
      },
      "execution_count": null,
      "outputs": []
    },
    {
      "cell_type": "code",
      "source": [],
      "metadata": {
        "id": "I0BucQ65YczJ"
      },
      "execution_count": null,
      "outputs": []
    },
    {
      "cell_type": "code",
      "source": [
        "model.load_state_dict(torch.load(path))\n",
        "model.eval()"
      ],
      "metadata": {
        "colab": {
          "base_uri": "https://localhost:8080/",
          "height": 158
        },
        "id": "TA5aGL1TZQLR",
        "outputId": "ecb1c5c9-29db-4a02-c72e-12edfdfaef09"
      },
      "execution_count": 61,
      "outputs": [
        {
          "output_type": "error",
          "ename": "NameError",
          "evalue": "name 'path' is not defined",
          "traceback": [
            "\u001b[0;31m---------------------------------------------------------------------------\u001b[0m",
            "\u001b[0;31mNameError\u001b[0m                                 Traceback (most recent call last)",
            "\u001b[0;32m<ipython-input-61-db444c5f4912>\u001b[0m in \u001b[0;36m<cell line: 0>\u001b[0;34m()\u001b[0m\n\u001b[0;32m----> 1\u001b[0;31m \u001b[0mmodel\u001b[0m\u001b[0;34m.\u001b[0m\u001b[0mload_state_dict\u001b[0m\u001b[0;34m(\u001b[0m\u001b[0mtorch\u001b[0m\u001b[0;34m.\u001b[0m\u001b[0mload\u001b[0m\u001b[0;34m(\u001b[0m\u001b[0mpath\u001b[0m\u001b[0;34m)\u001b[0m\u001b[0;34m)\u001b[0m\u001b[0;34m\u001b[0m\u001b[0;34m\u001b[0m\u001b[0m\n\u001b[0m\u001b[1;32m      2\u001b[0m \u001b[0mmodel\u001b[0m\u001b[0;34m.\u001b[0m\u001b[0meval\u001b[0m\u001b[0;34m(\u001b[0m\u001b[0;34m)\u001b[0m\u001b[0;34m\u001b[0m\u001b[0;34m\u001b[0m\u001b[0m\n",
            "\u001b[0;31mNameError\u001b[0m: name 'path' is not defined"
          ]
        }
      ]
    },
    {
      "cell_type": "code",
      "source": [
        "# Degree 15\n",
        "out = model(data.x, data.edge_index)\n",
        "O = out[mask == False].argmax(dim=1)\n",
        "count = 0\n",
        "for i in data.y[mask == False] == O:\n",
        "  if i == True:\n",
        "    count+=1\n",
        "accuracy = count/ len(data.y[mask == False])\n",
        "print(f'Accuracy on degree 15 nodes: {accuracy:.4f}')"
      ],
      "metadata": {
        "colab": {
          "base_uri": "https://localhost:8080/"
        },
        "id": "UGknJyBfW0g3",
        "outputId": "ccfbebda-7f94-469d-e2ba-371858598ea5"
      },
      "execution_count": null,
      "outputs": [
        {
          "output_type": "stream",
          "name": "stdout",
          "text": [
            "Accuracy on degree 15 nodes: 0.7328\n"
          ]
        }
      ]
    },
    {
      "cell_type": "code",
      "source": [],
      "metadata": {
        "colab": {
          "base_uri": "https://localhost:8080/"
        },
        "id": "28lLpDOBYE0A",
        "outputId": "617eb06f-2566-4fb0-9983-2ec6ee8955af"
      },
      "execution_count": null,
      "outputs": [
        {
          "output_type": "stream",
          "name": "stdout",
          "text": [
            "Accuracy on degree 1 nodes: 0.8000\n"
          ]
        },
        {
          "output_type": "stream",
          "name": "stderr",
          "text": [
            "<ipython-input-48-ca3a1ffd2563>:2: FutureWarning: You are using `torch.load` with `weights_only=False` (the current default value), which uses the default pickle module implicitly. It is possible to construct malicious pickle data which will execute arbitrary code during unpickling (See https://github.com/pytorch/pytorch/blob/main/SECURITY.md#untrusted-models for more details). In a future release, the default value for `weights_only` will be flipped to `True`. This limits the functions that could be executed during unpickling. Arbitrary objects will no longer be allowed to be loaded via this mode unless they are explicitly allowlisted by the user via `torch.serialization.add_safe_globals`. We recommend you start setting `weights_only=True` for any use case where you don't have full control of the loaded file. Please open an issue on GitHub for any issues related to this experimental feature.\n",
            "  model.load_state_dict(torch.load(path))\n"
          ]
        }
      ]
    },
    {
      "cell_type": "code",
      "source": [],
      "metadata": {
        "id": "M-HvdpQ5-y27"
      },
      "execution_count": null,
      "outputs": []
    }
  ]
}