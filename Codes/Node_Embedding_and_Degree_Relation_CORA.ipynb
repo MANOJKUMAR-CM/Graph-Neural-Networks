{
  "nbformat": 4,
  "nbformat_minor": 0,
  "metadata": {
    "colab": {
      "provenance": []
    },
    "kernelspec": {
      "name": "python3",
      "display_name": "Python 3"
    },
    "language_info": {
      "name": "python"
    }
  },
  "cells": [
    {
      "cell_type": "code",
      "execution_count": 1,
      "metadata": {
        "colab": {
          "base_uri": "https://localhost:8080/"
        },
        "id": "AqKJfFoCJF9t",
        "outputId": "f3b8b062-d5be-4588-e0f1-82af5b64a551"
      },
      "outputs": [
        {
          "output_type": "stream",
          "name": "stdout",
          "text": [
            "pytorch version 2.4.0+cu121\n"
          ]
        }
      ],
      "source": [
        "import os\n",
        "import torch\n",
        "print(\"pytorch version {}\".format(torch.__version__))"
      ]
    },
    {
      "cell_type": "code",
      "source": [
        "if 'IS_GRADESCOPE_ENV' not in os.environ:\n",
        "  !pip install torch==2.4.0"
      ],
      "metadata": {
        "id": "EDF5gfFQJWa4"
      },
      "execution_count": null,
      "outputs": []
    },
    {
      "cell_type": "code",
      "source": [
        "# Install torch geometric\n",
        "if 'IS_GRADESCOPE_ENV' not in os.environ:\n",
        "  torch_version = str(torch.__version__)\n",
        "  scatter_src = f\"https://pytorch-geometric.com/whl/torch-{torch_version}.html\"\n",
        "  sparse_src = f\"https://pytorch-geometric.com/whl/torch-{torch_version}.html\"\n",
        "  !pip install torch-scatter -f $scatter_src\n",
        "  !pip install torch-sparse -f $sparse_src\n",
        "  !pip install torch-geometric\n",
        "  !pip install ogb"
      ],
      "metadata": {
        "id": "sXoo9djuJiJa"
      },
      "execution_count": null,
      "outputs": []
    },
    {
      "cell_type": "code",
      "source": [
        "import torch\n",
        "import torch_geometric\n",
        "from torch_geometric.datasets import Planetoid\n",
        "import numpy as np"
      ],
      "metadata": {
        "id": "leetlp6sKDQO"
      },
      "execution_count": 4,
      "outputs": []
    },
    {
      "cell_type": "code",
      "source": [
        "dataset = Planetoid(root=\"/dataset\", name=\"\")"
      ],
      "metadata": {
        "colab": {
          "base_uri": "https://localhost:8080/"
        },
        "id": "YeO6XmXvKbfJ",
        "outputId": "6e4a5303-09e4-4750-c643-7a920fb0dbe1"
      },
      "execution_count": 5,
      "outputs": [
        {
          "output_type": "stream",
          "name": "stderr",
          "text": [
            "Downloading https://github.com/kimiyoung/planetoid/raw/master/data/ind.cora.x\n",
            "Downloading https://github.com/kimiyoung/planetoid/raw/master/data/ind.cora.tx\n",
            "Downloading https://github.com/kimiyoung/planetoid/raw/master/data/ind.cora.allx\n",
            "Downloading https://github.com/kimiyoung/planetoid/raw/master/data/ind.cora.y\n",
            "Downloading https://github.com/kimiyoung/planetoid/raw/master/data/ind.cora.ty\n",
            "Downloading https://github.com/kimiyoung/planetoid/raw/master/data/ind.cora.ally\n",
            "Downloading https://github.com/kimiyoung/planetoid/raw/master/data/ind.cora.graph\n",
            "Downloading https://github.com/kimiyoung/planetoid/raw/master/data/ind.cora.test.index\n",
            "Processing...\n",
            "Done!\n"
          ]
        }
      ]
    },
    {
      "cell_type": "code",
      "source": [
        "data = dataset[0]\n",
        "data"
      ],
      "metadata": {
        "colab": {
          "base_uri": "https://localhost:8080/"
        },
        "id": "Z39vMlsyKggg",
        "outputId": "84ef086d-a54a-40d7-c754-fb46e1b165b6"
      },
      "execution_count": 6,
      "outputs": [
        {
          "output_type": "execute_result",
          "data": {
            "text/plain": [
              "Data(x=[2708, 1433], edge_index=[2, 10556], y=[2708], train_mask=[2708], val_mask=[2708], test_mask=[2708])"
            ]
          },
          "metadata": {},
          "execution_count": 6
        }
      ]
    },
    {
      "cell_type": "code",
      "source": [
        "src_nodes = data.edge_index[0]\n",
        "dest_nodes = data.edge_index[1]"
      ],
      "metadata": {
        "id": "bHe0e4odKkJY"
      },
      "execution_count": 7,
      "outputs": []
    },
    {
      "cell_type": "code",
      "source": [
        "# To compute Node of degree 1\n",
        "Degree = torch.bincount(src_nodes, minlength= len(data.x)).tolist()\n",
        "set(Degree)\n",
        "#node_degree_1 = (Degree == 1).nonzero(as_tuple=True)[0]"
      ],
      "metadata": {
        "colab": {
          "base_uri": "https://localhost:8080/"
        },
        "id": "J-xHm0ZFK5_0",
        "outputId": "31b928c1-f6da-45c6-deef-b87f8ccf7d26"
      },
      "execution_count": 12,
      "outputs": [
        {
          "output_type": "execute_result",
          "data": {
            "text/plain": [
              "{1,\n",
              " 2,\n",
              " 3,\n",
              " 4,\n",
              " 5,\n",
              " 6,\n",
              " 7,\n",
              " 8,\n",
              " 9,\n",
              " 10,\n",
              " 11,\n",
              " 12,\n",
              " 13,\n",
              " 14,\n",
              " 15,\n",
              " 16,\n",
              " 17,\n",
              " 18,\n",
              " 19,\n",
              " 21,\n",
              " 22,\n",
              " 23,\n",
              " 26,\n",
              " 29,\n",
              " 30,\n",
              " 31,\n",
              " 32,\n",
              " 33,\n",
              " 34,\n",
              " 36,\n",
              " 40,\n",
              " 42,\n",
              " 44,\n",
              " 65,\n",
              " 74,\n",
              " 78,\n",
              " 168}"
            ]
          },
          "metadata": {},
          "execution_count": 12
        }
      ]
    },
    {
      "cell_type": "code",
      "source": [
        "def SubGraph(d): # d -> nodes with degree d to be removed from the original graph\n",
        "  degree = torch.bincount(src_nodes, minlength=len(data.x)) # counts how many times each value occurs.\n",
        "  node_degree_d = (degree == d).nonzero(as_tuple=True)[0]\n",
        "  print(\"Number of Nodes with degree {}:\".format(d), len(node_degree_d))\n",
        "  # To create a mask\n",
        "  mask = torch.ones(len(data.x), dtype=bool)\n",
        "  mask[node_degree_d] = False\n",
        "\n",
        "  # Subgraph creation\n",
        "  subgraph = data.clone()\n",
        "\n",
        "  subgraph.x = data.x[mask]\n",
        "  subgraph.y = data.y[mask]\n",
        "  subgraph.train_mask = data.train_mask[mask]\n",
        "  subgraph.test_mask = data.test_mask[mask]\n",
        "  subgraph.val_mask = data.val_mask[mask]\n",
        "\n",
        "  subgraph.edge_index, _ = torch_geometric.utils.subgraph(mask, data.edge_index, relabel_nodes=True)\n",
        "\n",
        "  return subgraph, mask"
      ],
      "metadata": {
        "id": "WLoOiLAqK-cL"
      },
      "execution_count": 65,
      "outputs": []
    },
    {
      "cell_type": "code",
      "source": [
        "from torch_geometric.nn import SAGEConv\n",
        "import torch.nn.functional as F"
      ],
      "metadata": {
        "id": "bwltjOF-LcXs"
      },
      "execution_count": 66,
      "outputs": []
    },
    {
      "cell_type": "code",
      "source": [
        "class GraphSage(torch.nn.Module):\n",
        "  def __init__(self, hidden_dim, input_dim = dataset.num_features, output_dim = dataset.num_classes):\n",
        "    super().__init__()\n",
        "\n",
        "    self.conv1 = SAGEConv(input_dim, hidden_dim)\n",
        "    self.conv2 = SAGEConv(hidden_dim, output_dim)\n",
        "\n",
        "  def forward(self, x: torch.tensor, edge_list: torch.tensor):\n",
        "    x = self.conv1(x, edge_list)\n",
        "    x = F.relu(x)\n",
        "    x = F.dropout(x, p=0.15)\n",
        "\n",
        "    x = self.conv2(x, edge_list)\n",
        "    return x\n"
      ],
      "metadata": {
        "id": "JwfxYv4XPGSn"
      },
      "execution_count": 67,
      "outputs": []
    },
    {
      "cell_type": "code",
      "source": [
        "model =  GraphSage(128)\n",
        "model"
      ],
      "metadata": {
        "colab": {
          "base_uri": "https://localhost:8080/"
        },
        "id": "8xl_z1PAP0WT",
        "outputId": "efee1a75-032f-46fb-8784-f1a39fd6aceb"
      },
      "execution_count": 68,
      "outputs": [
        {
          "output_type": "execute_result",
          "data": {
            "text/plain": [
              "GraphSage(\n",
              "  (conv1): SAGEConv(1433, 128, aggr=mean)\n",
              "  (conv2): SAGEConv(128, 7, aggr=mean)\n",
              ")"
            ]
          },
          "metadata": {},
          "execution_count": 68
        }
      ]
    },
    {
      "cell_type": "code",
      "source": [
        "optimizer = torch.optim.Adam(model.parameters(), lr = 0.05, weight_decay=25e-5)\n",
        "criterion = torch.nn.CrossEntropyLoss()"
      ],
      "metadata": {
        "id": "-3OujLUASMsI"
      },
      "execution_count": 69,
      "outputs": []
    },
    {
      "cell_type": "code",
      "source": [
        "def train():\n",
        "  model.train()\n",
        "  optimizer.zero_grad()\n",
        "  output = model(subgraph.x, subgraph.edge_index)\n",
        "  loss = criterion(output[subgraph.train_mask], subgraph.y[subgraph.train_mask])\n",
        "\n",
        "  loss.backward()\n",
        "  optimizer.step()\n",
        "  return loss.item()\n",
        ""
      ],
      "metadata": {
        "id": "UUqNpXXNScf0"
      },
      "execution_count": 70,
      "outputs": []
    },
    {
      "cell_type": "code",
      "source": [
        "def test():\n",
        "  model.eval()\n",
        "  pred =model(subgraph.x, subgraph.edge_index)\n",
        "  pred = pred.argmax(dim=1)\n",
        "  train_acc = (pred[subgraph.train_mask] == subgraph.y[subgraph.train_mask]).sum() / subgraph.train_mask.sum()\n",
        "  val_acc = (pred[subgraph.val_mask] == subgraph.y[subgraph.val_mask]).sum() / subgraph.val_mask.sum()\n",
        "  test_acc = (pred[subgraph.test_mask] == subgraph.y[subgraph.test_mask]).sum() / subgraph.test_mask.sum()\n",
        "\n",
        "  return train_acc, val_acc, test_acc\n",
        ""
      ],
      "metadata": {
        "id": "F0v-r7fUS9DQ"
      },
      "execution_count": 71,
      "outputs": []
    },
    {
      "cell_type": "code",
      "source": [
        "subgraph, mask = SubGraph(6)\n",
        "subgraph"
      ],
      "metadata": {
        "colab": {
          "base_uri": "https://localhost:8080/"
        },
        "id": "lKmqoZ0kTBYx",
        "outputId": "4e2c0813-2535-4e06-c447-a596d2c2fdf1"
      },
      "execution_count": 72,
      "outputs": [
        {
          "output_type": "stream",
          "name": "stdout",
          "text": [
            "Number of Nodes with degree 6: 131\n"
          ]
        },
        {
          "output_type": "execute_result",
          "data": {
            "text/plain": [
              "Data(x=[2577, 1433], edge_index=[2, 9042], y=[2577], train_mask=[2577], val_mask=[2577], test_mask=[2577])"
            ]
          },
          "metadata": {},
          "execution_count": 72
        }
      ]
    },
    {
      "cell_type": "code",
      "source": [
        "\"\"\"\n",
        "%matplotlib inline\n",
        "import matplotlib.pyplot as plt\n",
        "from sklearn.manifold import TSNE\n",
        "\n",
        "def visualize(h, color):\n",
        "    z = TSNE(n_components=2).fit_transform(h.detach().cpu().numpy())\n",
        "\n",
        "    plt.figure(figsize=(8,8))\n",
        "    plt.xticks([])\n",
        "    plt.yticks([])\n",
        "\n",
        "    plt.scatter(z[:, 0], z[:, 1], s=70, c=color, cmap=\"Set2\")\n",
        "    plt.show()\n",
        "\n",
        "model.eval()\n",
        "\n",
        "x = model(subgraph.x, subgraph.edge_index)\n",
        "visualize(x, color=subgraph.y)\n",
        "\"\"\""
      ],
      "metadata": {
        "id": "Ln83vxVyTIzX"
      },
      "execution_count": null,
      "outputs": []
    },
    {
      "cell_type": "code",
      "source": [
        "from google.colab import drive\n",
        "drive.mount('/content/drive')"
      ],
      "metadata": {
        "colab": {
          "base_uri": "https://localhost:8080/"
        },
        "id": "yii8TEfMTK1J",
        "outputId": "8b22d320-0168-4da9-baff-efc0134b6947"
      },
      "execution_count": 42,
      "outputs": [
        {
          "output_type": "stream",
          "name": "stdout",
          "text": [
            "Mounted at /content/drive\n"
          ]
        }
      ]
    },
    {
      "cell_type": "code",
      "source": [
        "def compute(d):\n",
        "\n",
        "  path = '/content/drive/MyDrive/Colab Notebooks/degree{}.pth'.format(d)\n",
        "\n",
        "  best_test_acc = 0.0\n",
        "  for i in range(50):\n",
        "    loss = train()\n",
        "    train_acc, val_acc, test_acc = test()\n",
        "\n",
        "    if test_acc > best_test_acc:\n",
        "      best_test_acc = test_acc\n",
        "      torch.save(model.state_dict(), path)\n",
        "      print(f'Best model saved with accuracy: {best_test_acc:.2f}%')\n",
        "      print()\n",
        "    print(f\"Epoch: {i:03d}, Loss: {loss:.4f}, Train Acc: {train_acc:.4f}, Val Acc: {val_acc:.4f}, Test Acc: {test_acc:.4f}\")\n",
        "  print()\n",
        "  print()\n",
        "  model.load_state_dict(torch.load(path))\n",
        "  model.eval()\n",
        "\n",
        "  out = model(data.x, data.edge_index)\n",
        "  O = out[mask == False].argmax(dim=1)\n",
        "  count = 0\n",
        "  for i in data.y[mask == False] == O:\n",
        "    if i == True:\n",
        "      count+=1\n",
        "  accuracy = count/ len(data.y[mask == False])\n",
        "  print(f'Accuracy on degree {d} nodes: {accuracy:.4f}')"
      ],
      "metadata": {
        "id": "GlTvpOFxZMjK"
      },
      "execution_count": 73,
      "outputs": []
    },
    {
      "cell_type": "code",
      "source": [
        "compute(6)"
      ],
      "metadata": {
        "colab": {
          "base_uri": "https://localhost:8080/"
        },
        "id": "GnU7xOJ3-xyN",
        "outputId": "e8854a3d-025b-4353-e6c2-ba79c4f51555"
      },
      "execution_count": 75,
      "outputs": [
        {
          "output_type": "stream",
          "name": "stdout",
          "text": [
            "Best model saved with accuracy: 0.73%\n",
            "\n",
            "Epoch: 000, Loss: 0.0010, Train Acc: 1.0000, Val Acc: 0.7125, Test Acc: 0.7273\n",
            "Best model saved with accuracy: 0.73%\n",
            "\n",
            "Epoch: 001, Loss: 0.0014, Train Acc: 1.0000, Val Acc: 0.7021, Test Acc: 0.7315\n",
            "Best model saved with accuracy: 0.74%\n",
            "\n",
            "Epoch: 002, Loss: 0.0016, Train Acc: 1.0000, Val Acc: 0.7146, Test Acc: 0.7368\n",
            "Epoch: 003, Loss: 0.0010, Train Acc: 1.0000, Val Acc: 0.7021, Test Acc: 0.7304\n",
            "Best model saved with accuracy: 0.74%\n",
            "\n",
            "Epoch: 004, Loss: 0.0009, Train Acc: 1.0000, Val Acc: 0.7083, Test Acc: 0.7378\n",
            "Epoch: 005, Loss: 0.0009, Train Acc: 1.0000, Val Acc: 0.7188, Test Acc: 0.7357\n",
            "Epoch: 006, Loss: 0.0015, Train Acc: 1.0000, Val Acc: 0.7083, Test Acc: 0.7294\n",
            "Epoch: 007, Loss: 0.0015, Train Acc: 1.0000, Val Acc: 0.7125, Test Acc: 0.7304\n",
            "Best model saved with accuracy: 0.74%\n",
            "\n",
            "Epoch: 008, Loss: 0.0011, Train Acc: 1.0000, Val Acc: 0.6958, Test Acc: 0.7389\n",
            "Best model saved with accuracy: 0.74%\n",
            "\n",
            "Epoch: 009, Loss: 0.0010, Train Acc: 1.0000, Val Acc: 0.6979, Test Acc: 0.7400\n",
            "Epoch: 010, Loss: 0.0011, Train Acc: 1.0000, Val Acc: 0.7188, Test Acc: 0.7378\n",
            "Best model saved with accuracy: 0.76%\n",
            "\n",
            "Epoch: 011, Loss: 0.0017, Train Acc: 1.0000, Val Acc: 0.7229, Test Acc: 0.7579\n",
            "Epoch: 012, Loss: 0.0011, Train Acc: 1.0000, Val Acc: 0.7271, Test Acc: 0.7336\n",
            "Epoch: 013, Loss: 0.0015, Train Acc: 1.0000, Val Acc: 0.7354, Test Acc: 0.7400\n",
            "Epoch: 014, Loss: 0.0011, Train Acc: 1.0000, Val Acc: 0.7292, Test Acc: 0.7421\n",
            "Epoch: 015, Loss: 0.0009, Train Acc: 1.0000, Val Acc: 0.7083, Test Acc: 0.7442\n",
            "Epoch: 016, Loss: 0.0010, Train Acc: 1.0000, Val Acc: 0.7312, Test Acc: 0.7431\n",
            "Epoch: 017, Loss: 0.0010, Train Acc: 1.0000, Val Acc: 0.7312, Test Acc: 0.7400\n",
            "Epoch: 018, Loss: 0.0009, Train Acc: 1.0000, Val Acc: 0.7292, Test Acc: 0.7452\n",
            "Epoch: 019, Loss: 0.0010, Train Acc: 1.0000, Val Acc: 0.7458, Test Acc: 0.7378\n",
            "Epoch: 020, Loss: 0.0010, Train Acc: 1.0000, Val Acc: 0.7417, Test Acc: 0.7537\n",
            "Epoch: 021, Loss: 0.0014, Train Acc: 1.0000, Val Acc: 0.7354, Test Acc: 0.7505\n",
            "Epoch: 022, Loss: 0.0008, Train Acc: 1.0000, Val Acc: 0.7396, Test Acc: 0.7421\n",
            "Epoch: 023, Loss: 0.0010, Train Acc: 1.0000, Val Acc: 0.7354, Test Acc: 0.7537\n",
            "Epoch: 024, Loss: 0.0011, Train Acc: 1.0000, Val Acc: 0.7479, Test Acc: 0.7569\n",
            "Best model saved with accuracy: 0.76%\n",
            "\n",
            "Epoch: 025, Loss: 0.0012, Train Acc: 1.0000, Val Acc: 0.7563, Test Acc: 0.7590\n",
            "Best model saved with accuracy: 0.77%\n",
            "\n",
            "Epoch: 026, Loss: 0.0011, Train Acc: 1.0000, Val Acc: 0.7479, Test Acc: 0.7674\n",
            "Best model saved with accuracy: 0.77%\n",
            "\n",
            "Epoch: 027, Loss: 0.0015, Train Acc: 1.0000, Val Acc: 0.7521, Test Acc: 0.7748\n",
            "Epoch: 028, Loss: 0.0011, Train Acc: 1.0000, Val Acc: 0.7354, Test Acc: 0.7706\n",
            "Epoch: 029, Loss: 0.0012, Train Acc: 1.0000, Val Acc: 0.7417, Test Acc: 0.7579\n",
            "Epoch: 030, Loss: 0.0010, Train Acc: 1.0000, Val Acc: 0.7396, Test Acc: 0.7590\n",
            "Epoch: 031, Loss: 0.0011, Train Acc: 1.0000, Val Acc: 0.7396, Test Acc: 0.7526\n",
            "Epoch: 032, Loss: 0.0010, Train Acc: 1.0000, Val Acc: 0.7458, Test Acc: 0.7632\n",
            "Epoch: 033, Loss: 0.0011, Train Acc: 1.0000, Val Acc: 0.7646, Test Acc: 0.7674\n",
            "Epoch: 034, Loss: 0.0010, Train Acc: 1.0000, Val Acc: 0.7542, Test Acc: 0.7685\n",
            "Epoch: 035, Loss: 0.0010, Train Acc: 1.0000, Val Acc: 0.7500, Test Acc: 0.7611\n",
            "Epoch: 036, Loss: 0.0011, Train Acc: 1.0000, Val Acc: 0.7437, Test Acc: 0.7548\n",
            "Epoch: 037, Loss: 0.0013, Train Acc: 1.0000, Val Acc: 0.7458, Test Acc: 0.7526\n",
            "Epoch: 038, Loss: 0.0012, Train Acc: 1.0000, Val Acc: 0.7375, Test Acc: 0.7611\n",
            "Epoch: 039, Loss: 0.0011, Train Acc: 1.0000, Val Acc: 0.7375, Test Acc: 0.7590\n",
            "Epoch: 040, Loss: 0.0012, Train Acc: 1.0000, Val Acc: 0.7417, Test Acc: 0.7653\n",
            "Epoch: 041, Loss: 0.0015, Train Acc: 1.0000, Val Acc: 0.7500, Test Acc: 0.7590\n",
            "Best model saved with accuracy: 0.78%\n",
            "\n",
            "Epoch: 042, Loss: 0.0013, Train Acc: 1.0000, Val Acc: 0.7771, Test Acc: 0.7770\n",
            "Epoch: 043, Loss: 0.0011, Train Acc: 1.0000, Val Acc: 0.7708, Test Acc: 0.7748\n",
            "Best model saved with accuracy: 0.78%\n",
            "\n",
            "Epoch: 044, Loss: 0.0011, Train Acc: 1.0000, Val Acc: 0.7854, Test Acc: 0.7791\n",
            "Epoch: 045, Loss: 0.0011, Train Acc: 1.0000, Val Acc: 0.7646, Test Acc: 0.7717\n",
            "Epoch: 046, Loss: 0.0011, Train Acc: 1.0000, Val Acc: 0.7667, Test Acc: 0.7706\n",
            "Epoch: 047, Loss: 0.0013, Train Acc: 1.0000, Val Acc: 0.7500, Test Acc: 0.7622\n",
            "Epoch: 048, Loss: 0.0010, Train Acc: 1.0000, Val Acc: 0.7563, Test Acc: 0.7748\n",
            "Epoch: 049, Loss: 0.0011, Train Acc: 1.0000, Val Acc: 0.7542, Test Acc: 0.7674\n",
            "\n",
            "\n",
            "Accuracy on degree 6 nodes: 0.7557\n"
          ]
        },
        {
          "output_type": "stream",
          "name": "stderr",
          "text": [
            "<ipython-input-73-69a9f7f66709>:18: FutureWarning: You are using `torch.load` with `weights_only=False` (the current default value), which uses the default pickle module implicitly. It is possible to construct malicious pickle data which will execute arbitrary code during unpickling (See https://github.com/pytorch/pytorch/blob/main/SECURITY.md#untrusted-models for more details). In a future release, the default value for `weights_only` will be flipped to `True`. This limits the functions that could be executed during unpickling. Arbitrary objects will no longer be allowed to be loaded via this mode unless they are explicitly allowlisted by the user via `torch.serialization.add_safe_globals`. We recommend you start setting `weights_only=True` for any use case where you don't have full control of the loaded file. Please open an issue on GitHub for any issues related to this experimental feature.\n",
            "  model.load_state_dict(torch.load(path))\n"
          ]
        }
      ]
    },
    {
      "cell_type": "code",
      "source": [
        "import matplotlib.pyplot as plt\n",
        "\n",
        "deg = [1, 2, 3, 4, 5, 6, 10, 15, 17, 19, 21]\n",
        "acc = [65.29, 75.3, 74.98, 79.68, 81.85, 80.15, 75, 100, 87.50, 80, 67]\n",
        "\n",
        "plt.plot(deg, acc, marker='o', color='red', linestyle='-')\n",
        "plt.xlabel(\"Degree\")\n",
        "plt.ylabel(\"Accuracy (%)\")\n",
        "plt.title(\"CORA Dataset\")\n",
        "plt.grid(True)\n",
        "plt.show()\n"
      ],
      "metadata": {
        "colab": {
          "base_uri": "https://localhost:8080/",
          "height": 472
        },
        "id": "Wmqd118pBVQH",
        "outputId": "e722dd14-6d4d-4ca1-bfd8-1203e16f51d6"
      },
      "execution_count": 89,
      "outputs": [
        {
          "output_type": "display_data",
          "data": {
            "text/plain": [
              "<Figure size 640x480 with 1 Axes>"
            ],
            "image/png": "[encoded data removed]"
          },
          "metadata": {}
        }
      ]
    },
    {
      "cell_type": "code",
      "source": [],
      "metadata": {
        "id": "CWTeQXdVBVJC"
      },
      "execution_count": null,
      "outputs": []
    },
    {
      "cell_type": "code",
      "source": [],
      "metadata": {
        "id": "vxtA30PlBVCJ"
      },
      "execution_count": null,
      "outputs": []
    },
    {
      "cell_type": "code",
      "source": [],
      "metadata": {
        "id": "ZSQDjSlfBU-g"
      },
      "execution_count": null,
      "outputs": []
    },
    {
      "cell_type": "code",
      "source": [
        "path = '/content/drive/MyDrive/Colab Notebooks/degree19.pth'"
      ],
      "metadata": {
        "id": "u6WmxV-IVP4I"
      },
      "execution_count": 43,
      "outputs": []
    },
    {
      "cell_type": "code",
      "source": [
        "best_test_acc = 0.0\n",
        "for i in range(50):\n",
        "  loss = train()\n",
        "  train_acc, val_acc, test_acc = test()\n",
        "\n",
        "  if test_acc > best_test_acc:\n",
        "    best_test_acc = test_acc\n",
        "    torch.save(model.state_dict(), path)\n",
        "    print(f'Best model saved with accuracy: {best_test_acc:.2f}%')\n",
        "    print()\n",
        "  print(f\"Epoch: {i:03d}, Loss: {loss:.4f}, Train Acc: {train_acc:.4f}, Val Acc: {val_acc:.4f}, Test Acc: {test_acc:.4f}\")"
      ],
      "metadata": {
        "colab": {
          "base_uri": "https://localhost:8080/"
        },
        "id": "JWOy8eNBV3Bm",
        "outputId": "16e2c152-fadd-4d6b-e461-50a683ee124f"
      },
      "execution_count": 44,
      "outputs": [
        {
          "output_type": "stream",
          "name": "stdout",
          "text": [
            "Best model saved with accuracy: 0.59%\n",
            "\n",
            "Epoch: 000, Loss: 1.9525, Train Acc: 0.9856, Val Acc: 0.6060, Test Acc: 0.5916\n",
            "Best model saved with accuracy: 0.68%\n",
            "\n",
            "Epoch: 001, Loss: 0.4016, Train Acc: 0.8777, Val Acc: 0.6700, Test Acc: 0.6847\n",
            "Best model saved with accuracy: 0.77%\n",
            "\n",
            "Epoch: 002, Loss: 0.3821, Train Acc: 1.0000, Val Acc: 0.7600, Test Acc: 0.7698\n",
            "Epoch: 003, Loss: 0.0002, Train Acc: 1.0000, Val Acc: 0.5820, Test Acc: 0.5586\n",
            "Epoch: 004, Loss: 0.0010, Train Acc: 0.9496, Val Acc: 0.3760, Test Acc: 0.3884\n",
            "Epoch: 005, Loss: 0.0764, Train Acc: 1.0000, Val Acc: 0.4780, Test Acc: 0.4715\n",
            "Epoch: 006, Loss: 0.0010, Train Acc: 1.0000, Val Acc: 0.5640, Test Acc: 0.5546\n",
            "Epoch: 007, Loss: 0.0000, Train Acc: 0.9928, Val Acc: 0.5960, Test Acc: 0.5756\n",
            "Epoch: 008, Loss: 0.0003, Train Acc: 0.9928, Val Acc: 0.6000, Test Acc: 0.5876\n",
            "Epoch: 009, Loss: 0.0205, Train Acc: 1.0000, Val Acc: 0.6220, Test Acc: 0.6276\n",
            "Epoch: 010, Loss: 0.0000, Train Acc: 1.0000, Val Acc: 0.6580, Test Acc: 0.6567\n",
            "Epoch: 011, Loss: 0.0000, Train Acc: 1.0000, Val Acc: 0.6520, Test Acc: 0.6667\n",
            "Epoch: 012, Loss: 0.0000, Train Acc: 1.0000, Val Acc: 0.6600, Test Acc: 0.6877\n",
            "Epoch: 013, Loss: 0.0000, Train Acc: 1.0000, Val Acc: 0.6600, Test Acc: 0.7007\n",
            "Epoch: 014, Loss: 0.0000, Train Acc: 1.0000, Val Acc: 0.6600, Test Acc: 0.7097\n",
            "Epoch: 015, Loss: 0.0000, Train Acc: 1.0000, Val Acc: 0.6640, Test Acc: 0.6967\n",
            "Epoch: 016, Loss: 0.0217, Train Acc: 1.0000, Val Acc: 0.6420, Test Acc: 0.6867\n",
            "Epoch: 017, Loss: 0.0000, Train Acc: 0.9928, Val Acc: 0.6420, Test Acc: 0.6717\n",
            "Epoch: 018, Loss: 0.0001, Train Acc: 1.0000, Val Acc: 0.6120, Test Acc: 0.6557\n",
            "Epoch: 019, Loss: 0.0086, Train Acc: 1.0000, Val Acc: 0.6120, Test Acc: 0.6376\n",
            "Epoch: 020, Loss: 0.0003, Train Acc: 1.0000, Val Acc: 0.5960, Test Acc: 0.6386\n",
            "Epoch: 021, Loss: 0.0013, Train Acc: 0.9928, Val Acc: 0.6100, Test Acc: 0.6296\n",
            "Epoch: 022, Loss: 0.0006, Train Acc: 1.0000, Val Acc: 0.6040, Test Acc: 0.6226\n",
            "Epoch: 023, Loss: 0.0006, Train Acc: 1.0000, Val Acc: 0.5920, Test Acc: 0.6216\n",
            "Epoch: 024, Loss: 0.0005, Train Acc: 1.0000, Val Acc: 0.5760, Test Acc: 0.6136\n",
            "Epoch: 025, Loss: 0.0008, Train Acc: 1.0000, Val Acc: 0.5920, Test Acc: 0.6026\n",
            "Epoch: 026, Loss: 0.0002, Train Acc: 0.9928, Val Acc: 0.5720, Test Acc: 0.6026\n",
            "Epoch: 027, Loss: 0.0017, Train Acc: 1.0000, Val Acc: 0.5760, Test Acc: 0.6156\n",
            "Epoch: 028, Loss: 0.0004, Train Acc: 1.0000, Val Acc: 0.5980, Test Acc: 0.6196\n",
            "Epoch: 029, Loss: 0.0015, Train Acc: 1.0000, Val Acc: 0.6100, Test Acc: 0.6346\n",
            "Epoch: 030, Loss: 0.0004, Train Acc: 1.0000, Val Acc: 0.6040, Test Acc: 0.6436\n",
            "Epoch: 031, Loss: 0.0017, Train Acc: 1.0000, Val Acc: 0.6260, Test Acc: 0.6677\n",
            "Epoch: 032, Loss: 0.0011, Train Acc: 1.0000, Val Acc: 0.6220, Test Acc: 0.6737\n",
            "Epoch: 033, Loss: 0.0004, Train Acc: 1.0000, Val Acc: 0.6480, Test Acc: 0.6987\n",
            "Epoch: 034, Loss: 0.0004, Train Acc: 1.0000, Val Acc: 0.6540, Test Acc: 0.6957\n",
            "Epoch: 035, Loss: 0.0016, Train Acc: 1.0000, Val Acc: 0.6540, Test Acc: 0.6967\n",
            "Epoch: 036, Loss: 0.0003, Train Acc: 1.0000, Val Acc: 0.6600, Test Acc: 0.7007\n",
            "Epoch: 037, Loss: 0.0005, Train Acc: 1.0000, Val Acc: 0.6620, Test Acc: 0.6987\n",
            "Epoch: 038, Loss: 0.0012, Train Acc: 1.0000, Val Acc: 0.6740, Test Acc: 0.6937\n",
            "Epoch: 039, Loss: 0.0009, Train Acc: 1.0000, Val Acc: 0.6700, Test Acc: 0.6927\n",
            "Epoch: 040, Loss: 0.0006, Train Acc: 1.0000, Val Acc: 0.6640, Test Acc: 0.6907\n",
            "Epoch: 041, Loss: 0.0003, Train Acc: 1.0000, Val Acc: 0.6780, Test Acc: 0.6907\n",
            "Epoch: 042, Loss: 0.0011, Train Acc: 1.0000, Val Acc: 0.6560, Test Acc: 0.6917\n",
            "Epoch: 043, Loss: 0.0010, Train Acc: 1.0000, Val Acc: 0.6640, Test Acc: 0.6707\n",
            "Epoch: 044, Loss: 0.0008, Train Acc: 1.0000, Val Acc: 0.6580, Test Acc: 0.6917\n",
            "Epoch: 045, Loss: 0.0009, Train Acc: 1.0000, Val Acc: 0.6720, Test Acc: 0.6977\n",
            "Epoch: 046, Loss: 0.0011, Train Acc: 1.0000, Val Acc: 0.6500, Test Acc: 0.6947\n",
            "Epoch: 047, Loss: 0.0006, Train Acc: 1.0000, Val Acc: 0.6720, Test Acc: 0.6937\n",
            "Epoch: 048, Loss: 0.0007, Train Acc: 1.0000, Val Acc: 0.6660, Test Acc: 0.6827\n",
            "Epoch: 049, Loss: 0.0015, Train Acc: 0.9928, Val Acc: 0.6880, Test Acc: 0.6947\n"
          ]
        }
      ]
    },
    {
      "cell_type": "code",
      "source": [
        "model.load_state_dict(torch.load(path))\n",
        "model.eval()"
      ],
      "metadata": {
        "colab": {
          "base_uri": "https://localhost:8080/"
        },
        "id": "TA5aGL1TZQLR",
        "outputId": "e8d29094-7696-4c57-bbf5-cdd591c6bf7d"
      },
      "execution_count": 76,
      "outputs": [
        {
          "output_type": "stream",
          "name": "stderr",
          "text": [
            "<ipython-input-76-db444c5f4912>:1: FutureWarning: You are using `torch.load` with `weights_only=False` (the current default value), which uses the default pickle module implicitly. It is possible to construct malicious pickle data which will execute arbitrary code during unpickling (See https://github.com/pytorch/pytorch/blob/main/SECURITY.md#untrusted-models for more details). In a future release, the default value for `weights_only` will be flipped to `True`. This limits the functions that could be executed during unpickling. Arbitrary objects will no longer be allowed to be loaded via this mode unless they are explicitly allowlisted by the user via `torch.serialization.add_safe_globals`. We recommend you start setting `weights_only=True` for any use case where you don't have full control of the loaded file. Please open an issue on GitHub for any issues related to this experimental feature.\n",
            "  model.load_state_dict(torch.load(path))\n"
          ]
        },
        {
          "output_type": "execute_result",
          "data": {
            "text/plain": [
              "GraphSage(\n",
              "  (conv1): SAGEConv(1433, 128, aggr=mean)\n",
              "  (conv2): SAGEConv(128, 7, aggr=mean)\n",
              ")"
            ]
          },
          "metadata": {},
          "execution_count": 76
        }
      ]
    },
    {
      "cell_type": "code",
      "source": [
        "# Degree 15\n",
        "out = model(data.x, data.edge_index)\n",
        "O = out[mask == False].argmax(dim=1)\n",
        "count = 0\n",
        "for i in data.y[mask == False] == O:\n",
        "  if i == True:\n",
        "    count+=1\n",
        "accuracy = count/ len(data.y[mask == False])\n",
        "print(f'Accuracy on degree 15 nodes: {accuracy:.4f}')"
      ],
      "metadata": {
        "colab": {
          "base_uri": "https://localhost:8080/"
        },
        "id": "UGknJyBfW0g3",
        "outputId": "ccfbebda-7f94-469d-e2ba-371858598ea5"
      },
      "execution_count": 86,
      "outputs": [
        {
          "output_type": "stream",
          "name": "stdout",
          "text": [
            "Accuracy on degree 15 nodes: 0.7328\n"
          ]
        }
      ]
    },
    {
      "cell_type": "code",
      "source": [],
      "metadata": {
        "colab": {
          "base_uri": "https://localhost:8080/"
        },
        "id": "28lLpDOBYE0A",
        "outputId": "617eb06f-2566-4fb0-9983-2ec6ee8955af"
      },
      "execution_count": 48,
      "outputs": [
        {
          "output_type": "stream",
          "name": "stdout",
          "text": [
            "Accuracy on degree 1 nodes: 0.8000\n"
          ]
        },
        {
          "output_type": "stream",
          "name": "stderr",
          "text": [
            "<ipython-input-48-ca3a1ffd2563>:2: FutureWarning: You are using `torch.load` with `weights_only=False` (the current default value), which uses the default pickle module implicitly. It is possible to construct malicious pickle data which will execute arbitrary code during unpickling (See https://github.com/pytorch/pytorch/blob/main/SECURITY.md#untrusted-models for more details). In a future release, the default value for `weights_only` will be flipped to `True`. This limits the functions that could be executed during unpickling. Arbitrary objects will no longer be allowed to be loaded via this mode unless they are explicitly allowlisted by the user via `torch.serialization.add_safe_globals`. We recommend you start setting `weights_only=True` for any use case where you don't have full control of the loaded file. Please open an issue on GitHub for any issues related to this experimental feature.\n",
            "  model.load_state_dict(torch.load(path))\n"
          ]
        }
      ]
    },
    {
      "cell_type": "code",
      "source": [],
      "metadata": {
        "id": "M-HvdpQ5-y27"
      },
      "execution_count": null,
      "outputs": []
    }
  ]
}